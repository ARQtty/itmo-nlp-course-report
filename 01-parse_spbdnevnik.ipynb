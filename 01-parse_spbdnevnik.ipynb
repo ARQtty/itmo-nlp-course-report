{
 "cells": [
  {
   "cell_type": "code",
   "execution_count": 1,
   "id": "72700c92-3de7-4d1f-ac47-c90125d5057d",
   "metadata": {},
   "outputs": [],
   "source": [
    "import pandas as pd"
   ]
  },
  {
   "cell_type": "code",
   "execution_count": 2,
   "id": "8d03bfd0-4e64-4bfb-b34b-45c0ae7575ac",
   "metadata": {},
   "outputs": [],
   "source": [
    "from src.parsers import SpbDnevnikPage\n",
    "from src.parsers.utils import download_url"
   ]
  },
  {
   "cell_type": "code",
   "execution_count": 3,
   "id": "a17b1355-6170-4a0b-9051-a8cb62e473d3",
   "metadata": {},
   "outputs": [
    {
     "data": {
      "text/plain": [
       "['https://spbdnevnik.ru/news/2018-01-01/deputat-romanov-vruchil-invalidnuyu-kolyasku-novogo-pokoleniya-glave-fizkulturno-sportivnogo-kluba--paralimpik',\n",
       " 'https://spbdnevnik.ru/news/2018-01-10/klinika--lichny-doktor--zaplatit-shtraf-za-otsutstviey-pandusov',\n",
       " 'https://spbdnevnik.ru/news/2018-01-11/my-tut-ryadom']"
      ]
     },
     "execution_count": 3,
     "metadata": {},
     "output_type": "execute_result"
    }
   ],
   "source": [
    "s = open('./raw/links/links_spbdnevnik.txt').read()\n",
    "\n",
    "is_link = lambda word: word.startswith('https')\n",
    "filter_link = lambda row: list(filter(is_link, row.split()))\n",
    "\n",
    "links = list(map(filter_link, s.splitlines()))\n",
    "links = list(filter(lambda arr: len(arr), links))\n",
    "links = [x[0] for x in links]\n",
    "links[:3]"
   ]
  },
  {
   "cell_type": "code",
   "execution_count": 4,
   "id": "2aca81ed-f769-497f-93f6-baa360d2c49e",
   "metadata": {
    "tags": []
   },
   "outputs": [
    {
     "name": "stderr",
     "output_type": "stream",
     "text": [
      "100%|███████████████████████████████████████████████████████████████████████████████████████████████████████████| 713/713 [04:18<00:00,  2.75it/s]\n"
     ]
    }
   ],
   "source": [
    "from time import sleep\n",
    "from tqdm import tqdm\n",
    "\n",
    "records = []\n",
    "\n",
    "for i, link in tqdm(enumerate(links), total=len(links)):\n",
    "    sleep(0.2)\n",
    "    \n",
    "    try:\n",
    "        source = download_url(link)\n",
    "    except Exception as e:\n",
    "        print(f'error downloading page {i} with err {e}')\n",
    "        continue\n",
    "    \n",
    "    page_name = link.split('/')[-2]\n",
    "    with open(f'raw/pages/{page_name}', 'w') as f:\n",
    "        f.write(source)\n",
    "    \n",
    "    try:\n",
    "        content = SpbDnevnikPage(source)\n",
    "        records.append(content)\n",
    "    except Exception as e:\n",
    "        print(f'error parsing page {i} with err {e}')\n",
    "        continue"
   ]
  },
  {
   "cell_type": "code",
   "execution_count": 5,
   "id": "794b71c0-b373-4a92-af20-17b5163c6a94",
   "metadata": {},
   "outputs": [
    {
     "name": "stdout",
     "output_type": "stream",
     "text": [
      "except\n",
      "(713, 4)\n"
     ]
    },
    {
     "data": {
      "text/html": [
       "<div>\n",
       "<style scoped>\n",
       "    .dataframe tbody tr th:only-of-type {\n",
       "        vertical-align: middle;\n",
       "    }\n",
       "\n",
       "    .dataframe tbody tr th {\n",
       "        vertical-align: top;\n",
       "    }\n",
       "\n",
       "    .dataframe thead th {\n",
       "        text-align: right;\n",
       "    }\n",
       "</style>\n",
       "<table border=\"1\" class=\"dataframe\">\n",
       "  <thead>\n",
       "    <tr style=\"text-align: right;\">\n",
       "      <th></th>\n",
       "      <th>title</th>\n",
       "      <th>text</th>\n",
       "      <th>create_dttm</th>\n",
       "      <th>link</th>\n",
       "    </tr>\n",
       "  </thead>\n",
       "  <tbody>\n",
       "    <tr>\n",
       "      <th>0</th>\n",
       "      <td>Депутат Романов вручил инвалидную коляску ново...</td>\n",
       "      <td>Накануне Нового года депутат Госдумы, заместит...</td>\n",
       "      <td>1 января 2018</td>\n",
       "      <td>https://spbdnevnik.ru/news/2018-01-01/deputat-...</td>\n",
       "    </tr>\n",
       "    <tr>\n",
       "      <th>1</th>\n",
       "      <td>Клиника \"Личный доктор\" заплатит штраф за отсу...</td>\n",
       "      <td>В Колпинском районе медицинская клиника ООО \"Л...</td>\n",
       "      <td>10 января 2018</td>\n",
       "      <td>https://spbdnevnik.ru/news/2018-01-10/klinika-...</td>\n",
       "    </tr>\n",
       "    <tr>\n",
       "      <th>2</th>\n",
       "      <td>Город услышал Антона, который тут рядом</td>\n",
       "      <td>В Петербурге будет создан центр помощи семьям,...</td>\n",
       "      <td>11 января 2018</td>\n",
       "      <td>https://spbdnevnik.ru/news/2018-01-11/my-tut-r...</td>\n",
       "    </tr>\n",
       "    <tr>\n",
       "      <th>3</th>\n",
       "      <td>Комитет по соцполитике прокомментировал возмож...</td>\n",
       "      <td>Председатель комитета по социальной политике А...</td>\n",
       "      <td>12 января 2018</td>\n",
       "      <td>https://spbdnevnik.ru/news/2018-01-12/komitet-...</td>\n",
       "    </tr>\n",
       "    <tr>\n",
       "      <th>4</th>\n",
       "      <td>Обновленный реабилитационный центр в Пушкине п...</td>\n",
       "      <td>Люди с нарушениями интеллекта нуждаются в особ...</td>\n",
       "      <td>25 января 2018</td>\n",
       "      <td>https://spbdnevnik.ru/news/2018-01-25/obnovlen...</td>\n",
       "    </tr>\n",
       "  </tbody>\n",
       "</table>\n",
       "</div>"
      ],
      "text/plain": [
       "                                               title  \\\n",
       "0  Депутат Романов вручил инвалидную коляску ново...   \n",
       "1  Клиника \"Личный доктор\" заплатит штраф за отсу...   \n",
       "2            Город услышал Антона, который тут рядом   \n",
       "3  Комитет по соцполитике прокомментировал возмож...   \n",
       "4  Обновленный реабилитационный центр в Пушкине п...   \n",
       "\n",
       "                                                text     create_dttm  \\\n",
       "0  Накануне Нового года депутат Госдумы, заместит...   1 января 2018   \n",
       "1  В Колпинском районе медицинская клиника ООО \"Л...  10 января 2018   \n",
       "2  В Петербурге будет создан центр помощи семьям,...  11 января 2018   \n",
       "3  Председатель комитета по социальной политике А...  12 января 2018   \n",
       "4  Люди с нарушениями интеллекта нуждаются в особ...  25 января 2018   \n",
       "\n",
       "                                                link  \n",
       "0  https://spbdnevnik.ru/news/2018-01-01/deputat-...  \n",
       "1  https://spbdnevnik.ru/news/2018-01-10/klinika-...  \n",
       "2  https://spbdnevnik.ru/news/2018-01-11/my-tut-r...  \n",
       "3  https://spbdnevnik.ru/news/2018-01-12/komitet-...  \n",
       "4  https://spbdnevnik.ru/news/2018-01-25/obnovlen...  "
      ]
     },
     "execution_count": 5,
     "metadata": {},
     "output_type": "execute_result"
    }
   ],
   "source": [
    "def make_tuple(p) -> tuple:\n",
    "    try: \n",
    "        return (p.get_header(), p.get_subtitle() + '\\n' + p.get_main_text(), p.get_create_date()) \n",
    "    except: \n",
    "        print('except')\n",
    "        return ('header', 'text', '2022-01-01')\n",
    "\n",
    "tuples = [make_tuple(page) for page in records]\n",
    "\n",
    "df = pd.DataFrame.from_records(tuples, columns=['title', 'text', 'create_dttm']).assign(link=links)\n",
    "print(df.shape)\n",
    "df.head()"
   ]
  },
  {
   "cell_type": "code",
   "execution_count": 6,
   "id": "015bfc9d-4188-4a7f-832c-8c13e7cb7471",
   "metadata": {},
   "outputs": [
    {
     "name": "stdout",
     "output_type": "stream",
     "text": [
      "except\n"
     ]
    }
   ],
   "source": [
    "for i, p in enumerate(records):\n",
    "    try:\n",
    "        make_tuple(p)\n",
    "    except:\n",
    "        print(i)"
   ]
  },
  {
   "cell_type": "code",
   "execution_count": 7,
   "id": "448ef600-221a-4e37-a28a-a9027a4c1bcd",
   "metadata": {},
   "outputs": [],
   "source": [
    "df.to_csv('./raw/articles/spbdnevnik.csv', index=False)"
   ]
  },
  {
   "cell_type": "code",
   "execution_count": null,
   "id": "42114c53-0b82-4ae5-946a-0ab8ce197faf",
   "metadata": {},
   "outputs": [],
   "source": []
  }
 ],
 "metadata": {
  "kernelspec": {
   "display_name": "Python 3 (ipykernel)",
   "language": "python",
   "name": "python3"
  },
  "language_info": {
   "codemirror_mode": {
    "name": "ipython",
    "version": 3
   },
   "file_extension": ".py",
   "mimetype": "text/x-python",
   "name": "python",
   "nbconvert_exporter": "python",
   "pygments_lexer": "ipython3",
   "version": "3.9.16"
  }
 },
 "nbformat": 4,
 "nbformat_minor": 5
}
