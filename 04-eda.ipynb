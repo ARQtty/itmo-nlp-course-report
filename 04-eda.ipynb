{
 "cells": [
  {
   "cell_type": "code",
   "execution_count": 1,
   "id": "34fa4554-f341-426d-931e-46fd81d484b5",
   "metadata": {},
   "outputs": [],
   "source": [
    "import pandas as pd"
   ]
  },
  {
   "cell_type": "code",
   "execution_count": 2,
   "id": "367a0b98-260c-4301-bf9b-359fc552c4da",
   "metadata": {},
   "outputs": [
    {
     "name": "stdout",
     "output_type": "stream",
     "text": [
      "(1873, 7)\n"
     ]
    },
    {
     "data": {
      "text/html": [
       "<div>\n",
       "<style scoped>\n",
       "    .dataframe tbody tr th:only-of-type {\n",
       "        vertical-align: middle;\n",
       "    }\n",
       "\n",
       "    .dataframe tbody tr th {\n",
       "        vertical-align: top;\n",
       "    }\n",
       "\n",
       "    .dataframe thead th {\n",
       "        text-align: right;\n",
       "    }\n",
       "</style>\n",
       "<table border=\"1\" class=\"dataframe\">\n",
       "  <thead>\n",
       "    <tr style=\"text-align: right;\">\n",
       "      <th></th>\n",
       "      <th>title</th>\n",
       "      <th>text</th>\n",
       "      <th>create_dttm</th>\n",
       "      <th>link</th>\n",
       "      <th>site</th>\n",
       "      <th>sentiment</th>\n",
       "      <th>ethics</th>\n",
       "    </tr>\n",
       "  </thead>\n",
       "  <tbody>\n",
       "    <tr>\n",
       "      <th>0</th>\n",
       "      <td>Инвалидам перекрыли входы в кафе и магазины Кр...</td>\n",
       "      <td>\\n Магазины и кафе Кронштадта оказались недост...</td>\n",
       "      <td>2018-01-23 13:16:00</td>\n",
       "      <td>https://moika78.ru/news/2018-01-23/12164-inval...</td>\n",
       "      <td>moika78</td>\n",
       "      <td>0.0</td>\n",
       "      <td>NaN</td>\n",
       "    </tr>\n",
       "    <tr>\n",
       "      <th>1</th>\n",
       "      <td>Петербургские инвалиды не хотят хвалить метроп...</td>\n",
       "      <td>Оказывать помощь некоторым группам инвалидам н...</td>\n",
       "      <td>2018-01-30 15:53:00</td>\n",
       "      <td>https://moika78.ru/news/2018-01-30/13170-peter...</td>\n",
       "      <td>moika78</td>\n",
       "      <td>NaN</td>\n",
       "      <td>NaN</td>\n",
       "    </tr>\n",
       "    <tr>\n",
       "      <th>2</th>\n",
       "      <td>Петербургских родителей детей-инвалидов поддер...</td>\n",
       "      <td>\\n Горячая линия для родителей детей с инвали...</td>\n",
       "      <td>2018-01-31 13:12:00</td>\n",
       "      <td>https://moika78.ru/news/2018-01-31/13312-peter...</td>\n",
       "      <td>moika78</td>\n",
       "      <td>NaN</td>\n",
       "      <td>NaN</td>\n",
       "    </tr>\n",
       "    <tr>\n",
       "      <th>3</th>\n",
       "      <td>В Петербурге оштрафовали «Мираж Синема» за отк...</td>\n",
       "      <td>Роспотребнадзор по Санкт-Петербургу оштрафовал...</td>\n",
       "      <td>2018-02-14 13:38:00</td>\n",
       "      <td>https://moika78.ru/news/2018-02-14/14985-v-pet...</td>\n",
       "      <td>moika78</td>\n",
       "      <td>NaN</td>\n",
       "      <td>NaN</td>\n",
       "    </tr>\n",
       "  </tbody>\n",
       "</table>\n",
       "</div>"
      ],
      "text/plain": [
       "                                               title  \\\n",
       "0  Инвалидам перекрыли входы в кафе и магазины Кр...   \n",
       "1  Петербургские инвалиды не хотят хвалить метроп...   \n",
       "2  Петербургских родителей детей-инвалидов поддер...   \n",
       "3  В Петербурге оштрафовали «Мираж Синема» за отк...   \n",
       "\n",
       "                                                text          create_dttm  \\\n",
       "0  \\n Магазины и кафе Кронштадта оказались недост...  2018-01-23 13:16:00   \n",
       "1  Оказывать помощь некоторым группам инвалидам н...  2018-01-30 15:53:00   \n",
       "2   \\n Горячая линия для родителей детей с инвали...  2018-01-31 13:12:00   \n",
       "3  Роспотребнадзор по Санкт-Петербургу оштрафовал...  2018-02-14 13:38:00   \n",
       "\n",
       "                                                link     site  sentiment  \\\n",
       "0  https://moika78.ru/news/2018-01-23/12164-inval...  moika78        0.0   \n",
       "1  https://moika78.ru/news/2018-01-30/13170-peter...  moika78        NaN   \n",
       "2  https://moika78.ru/news/2018-01-31/13312-peter...  moika78        NaN   \n",
       "3  https://moika78.ru/news/2018-02-14/14985-v-pet...  moika78        NaN   \n",
       "\n",
       "   ethics  \n",
       "0     NaN  \n",
       "1     NaN  \n",
       "2     NaN  \n",
       "3     NaN  "
      ]
     },
     "execution_count": 2,
     "metadata": {},
     "output_type": "execute_result"
    }
   ],
   "source": [
    "df = pd.read_csv('./raw/articles/articles.csv', parse_dates=['create_dttm'])\n",
    "print(df.shape)\n",
    "df.head(4)"
   ]
  },
  {
   "cell_type": "code",
   "execution_count": 3,
   "id": "b9c47b06-9eef-401f-807a-5e13f0f8e389",
   "metadata": {},
   "outputs": [
    {
     "data": {
      "text/html": [
       "<div>\n",
       "<style scoped>\n",
       "    .dataframe tbody tr th:only-of-type {\n",
       "        vertical-align: middle;\n",
       "    }\n",
       "\n",
       "    .dataframe tbody tr th {\n",
       "        vertical-align: top;\n",
       "    }\n",
       "\n",
       "    .dataframe thead th {\n",
       "        text-align: right;\n",
       "    }\n",
       "</style>\n",
       "<table border=\"1\" class=\"dataframe\">\n",
       "  <thead>\n",
       "    <tr style=\"text-align: right;\">\n",
       "      <th></th>\n",
       "      <th>title</th>\n",
       "      <th>text</th>\n",
       "      <th>create_dttm</th>\n",
       "      <th>link</th>\n",
       "      <th>site</th>\n",
       "      <th>sentiment</th>\n",
       "      <th>ethics</th>\n",
       "    </tr>\n",
       "  </thead>\n",
       "  <tbody>\n",
       "    <tr>\n",
       "      <th>0</th>\n",
       "      <td>Инвалидам перекрыли входы кафе магазины Кроншт...</td>\n",
       "      <td>Магазины кафе Кронштадта оказались недоступны ...</td>\n",
       "      <td>2018-01-23 13:16:00</td>\n",
       "      <td>https://moika78.ru/news/2018-01-23/12164-inval...</td>\n",
       "      <td>moika78</td>\n",
       "      <td>0.0</td>\n",
       "      <td>NaN</td>\n",
       "    </tr>\n",
       "    <tr>\n",
       "      <th>1</th>\n",
       "      <td>Петербургские инвалиды хотят хвалить метрополитен</td>\n",
       "      <td>Оказывать помощь некоторым группам инвалидам с...</td>\n",
       "      <td>2018-01-30 15:53:00</td>\n",
       "      <td>https://moika78.ru/news/2018-01-30/13170-peter...</td>\n",
       "      <td>moika78</td>\n",
       "      <td>NaN</td>\n",
       "      <td>NaN</td>\n",
       "    </tr>\n",
       "    <tr>\n",
       "      <th>2</th>\n",
       "      <td>Петербургских родителей детейинвалидов поддерж...</td>\n",
       "      <td>Горячая линия родителей детей инвалидностью на...</td>\n",
       "      <td>2018-01-31 13:12:00</td>\n",
       "      <td>https://moika78.ru/news/2018-01-31/13312-peter...</td>\n",
       "      <td>moika78</td>\n",
       "      <td>NaN</td>\n",
       "      <td>NaN</td>\n",
       "    </tr>\n",
       "  </tbody>\n",
       "</table>\n",
       "</div>"
      ],
      "text/plain": [
       "                                               title  \\\n",
       "0  Инвалидам перекрыли входы кафе магазины Кроншт...   \n",
       "1  Петербургские инвалиды хотят хвалить метрополитен   \n",
       "2  Петербургских родителей детейинвалидов поддерж...   \n",
       "\n",
       "                                                text          create_dttm  \\\n",
       "0  Магазины кафе Кронштадта оказались недоступны ...  2018-01-23 13:16:00   \n",
       "1  Оказывать помощь некоторым группам инвалидам с...  2018-01-30 15:53:00   \n",
       "2  Горячая линия родителей детей инвалидностью на...  2018-01-31 13:12:00   \n",
       "\n",
       "                                                link     site  sentiment  \\\n",
       "0  https://moika78.ru/news/2018-01-23/12164-inval...  moika78        0.0   \n",
       "1  https://moika78.ru/news/2018-01-30/13170-peter...  moika78        NaN   \n",
       "2  https://moika78.ru/news/2018-01-31/13312-peter...  moika78        NaN   \n",
       "\n",
       "   ethics  \n",
       "0     NaN  \n",
       "1     NaN  \n",
       "2     NaN  "
      ]
     },
     "execution_count": 3,
     "metadata": {},
     "output_type": "execute_result"
    }
   ],
   "source": [
    "from nltk.corpus import stopwords\n",
    "stopwords = stopwords.words('russian')\n",
    "\n",
    "\n",
    "def preprocess_text(text: str) -> str:\n",
    "    is_allowed = lambda c: c.isalpha() or c.isdigit() or c == ' '\n",
    "    text = ''.join(list(filter(is_allowed, text)))\n",
    "    # text = text.lower()\n",
    "    text = text.split()\n",
    "    text = list(filter(lambda word: word not in stopwords, text))\n",
    "    text = ' '.join(text)\n",
    "    return text\n",
    "\n",
    "df = df.assign(title=df.title.apply(preprocess_text),\n",
    "               text=df.text.apply(preprocess_text))\n",
    "\n",
    "df.head(3)"
   ]
  },
  {
   "cell_type": "markdown",
   "id": "5e587c83-1328-46f2-ad89-763f59e65619",
   "metadata": {},
   "source": [
    "# самые популярные слова"
   ]
  },
  {
   "cell_type": "code",
   "execution_count": 4,
   "id": "fc0c43e9-b8a4-483a-a21c-acfcca099f0a",
   "metadata": {},
   "outputs": [],
   "source": [
    "from collections import Counter\n",
    "from nltk.stem import SnowballStemmer"
   ]
  },
  {
   "cell_type": "code",
   "execution_count": 5,
   "id": "d6b326fe-8210-47dd-9a86-92f7dcc6d8a3",
   "metadata": {},
   "outputs": [],
   "source": [
    "stemmer = SnowballStemmer(language='russian')"
   ]
  },
  {
   "cell_type": "code",
   "execution_count": 6,
   "id": "b3758b32-ddee-4212-8d58-4bf21afc064a",
   "metadata": {},
   "outputs": [
    {
     "data": {
      "text/html": [
       "<div>\n",
       "<style scoped>\n",
       "    .dataframe tbody tr th:only-of-type {\n",
       "        vertical-align: middle;\n",
       "    }\n",
       "\n",
       "    .dataframe tbody tr th {\n",
       "        vertical-align: top;\n",
       "    }\n",
       "\n",
       "    .dataframe thead th {\n",
       "        text-align: right;\n",
       "    }\n",
       "</style>\n",
       "<table border=\"1\" class=\"dataframe\">\n",
       "  <thead>\n",
       "    <tr style=\"text-align: right;\">\n",
       "      <th></th>\n",
       "      <th>title</th>\n",
       "      <th>text</th>\n",
       "      <th>create_dttm</th>\n",
       "      <th>link</th>\n",
       "      <th>site</th>\n",
       "      <th>sentiment</th>\n",
       "      <th>ethics</th>\n",
       "      <th>title_stem</th>\n",
       "      <th>text_stem</th>\n",
       "    </tr>\n",
       "  </thead>\n",
       "  <tbody>\n",
       "    <tr>\n",
       "      <th>0</th>\n",
       "      <td>Инвалидам перекрыли входы кафе магазины Кроншт...</td>\n",
       "      <td>Магазины кафе Кронштадта оказались недоступны ...</td>\n",
       "      <td>2018-01-23 13:16:00</td>\n",
       "      <td>https://moika78.ru/news/2018-01-23/12164-inval...</td>\n",
       "      <td>moika78</td>\n",
       "      <td>0.0</td>\n",
       "      <td>NaN</td>\n",
       "      <td>инвалид перекр вход каф магазин кронштадт</td>\n",
       "      <td>магазин каф кронштадт оказа недоступн инвалид ...</td>\n",
       "    </tr>\n",
       "    <tr>\n",
       "      <th>1</th>\n",
       "      <td>Петербургские инвалиды хотят хвалить метрополитен</td>\n",
       "      <td>Оказывать помощь некоторым группам инвалидам с...</td>\n",
       "      <td>2018-01-30 15:53:00</td>\n",
       "      <td>https://moika78.ru/news/2018-01-30/13170-peter...</td>\n",
       "      <td>moika78</td>\n",
       "      <td>NaN</td>\n",
       "      <td>NaN</td>\n",
       "      <td>петербургск инвалид хот хвал метрополит</td>\n",
       "      <td>оказыва помощ некотор групп инвалид станц метр...</td>\n",
       "    </tr>\n",
       "    <tr>\n",
       "      <th>2</th>\n",
       "      <td>Петербургских родителей детейинвалидов поддерж...</td>\n",
       "      <td>Горячая линия родителей детей инвалидностью на...</td>\n",
       "      <td>2018-01-31 13:12:00</td>\n",
       "      <td>https://moika78.ru/news/2018-01-31/13312-peter...</td>\n",
       "      <td>moika78</td>\n",
       "      <td>NaN</td>\n",
       "      <td>NaN</td>\n",
       "      <td>петербургск родител детейинвалид поддержат спе...</td>\n",
       "      <td>горяч лин родител дет инвалидн нача работ пете...</td>\n",
       "    </tr>\n",
       "    <tr>\n",
       "      <th>3</th>\n",
       "      <td>В Петербурге оштрафовали Мираж Синема отказ об...</td>\n",
       "      <td>Роспотребнадзор СанктПетербургу оштрафовали ки...</td>\n",
       "      <td>2018-02-14 13:38:00</td>\n",
       "      <td>https://moika78.ru/news/2018-02-14/14985-v-pet...</td>\n",
       "      <td>moika78</td>\n",
       "      <td>NaN</td>\n",
       "      <td>NaN</td>\n",
       "      <td>в петербург оштрафова мираж синем отказ обслуж...</td>\n",
       "      <td>роспотребнадзор санктпетербург оштрафова кинот...</td>\n",
       "    </tr>\n",
       "    <tr>\n",
       "      <th>4</th>\n",
       "      <td>Люди каменного века относились инвалидам уваже...</td>\n",
       "      <td>Первобытные люди жившие территории современной...</td>\n",
       "      <td>2018-02-16 20:24:00</td>\n",
       "      <td>https://moika78.ru/news/2018-02-16/15298-lyudi...</td>\n",
       "      <td>moika78</td>\n",
       "      <td>NaN</td>\n",
       "      <td>NaN</td>\n",
       "      <td>люд камен век относ инвалид уважен</td>\n",
       "      <td>первобытн люд живш территор современ росс отно...</td>\n",
       "    </tr>\n",
       "  </tbody>\n",
       "</table>\n",
       "</div>"
      ],
      "text/plain": [
       "                                               title  \\\n",
       "0  Инвалидам перекрыли входы кафе магазины Кроншт...   \n",
       "1  Петербургские инвалиды хотят хвалить метрополитен   \n",
       "2  Петербургских родителей детейинвалидов поддерж...   \n",
       "3  В Петербурге оштрафовали Мираж Синема отказ об...   \n",
       "4  Люди каменного века относились инвалидам уваже...   \n",
       "\n",
       "                                                text          create_dttm  \\\n",
       "0  Магазины кафе Кронштадта оказались недоступны ...  2018-01-23 13:16:00   \n",
       "1  Оказывать помощь некоторым группам инвалидам с...  2018-01-30 15:53:00   \n",
       "2  Горячая линия родителей детей инвалидностью на...  2018-01-31 13:12:00   \n",
       "3  Роспотребнадзор СанктПетербургу оштрафовали ки...  2018-02-14 13:38:00   \n",
       "4  Первобытные люди жившие территории современной...  2018-02-16 20:24:00   \n",
       "\n",
       "                                                link     site  sentiment  \\\n",
       "0  https://moika78.ru/news/2018-01-23/12164-inval...  moika78        0.0   \n",
       "1  https://moika78.ru/news/2018-01-30/13170-peter...  moika78        NaN   \n",
       "2  https://moika78.ru/news/2018-01-31/13312-peter...  moika78        NaN   \n",
       "3  https://moika78.ru/news/2018-02-14/14985-v-pet...  moika78        NaN   \n",
       "4  https://moika78.ru/news/2018-02-16/15298-lyudi...  moika78        NaN   \n",
       "\n",
       "   ethics                                         title_stem  \\\n",
       "0     NaN          инвалид перекр вход каф магазин кронштадт   \n",
       "1     NaN            петербургск инвалид хот хвал метрополит   \n",
       "2     NaN  петербургск родител детейинвалид поддержат спе...   \n",
       "3     NaN  в петербург оштрафова мираж синем отказ обслуж...   \n",
       "4     NaN                 люд камен век относ инвалид уважен   \n",
       "\n",
       "                                           text_stem  \n",
       "0  магазин каф кронштадт оказа недоступн инвалид ...  \n",
       "1  оказыва помощ некотор групп инвалид станц метр...  \n",
       "2  горяч лин родител дет инвалидн нача работ пете...  \n",
       "3  роспотребнадзор санктпетербург оштрафова кинот...  \n",
       "4  первобытн люд живш территор современ росс отно...  "
      ]
     },
     "execution_count": 6,
     "metadata": {},
     "output_type": "execute_result"
    }
   ],
   "source": [
    "def stem(text: str) -> str:\n",
    "    text = [stemmer.stem(word) for word in text.split()]\n",
    "    return ' '.join(text)\n",
    "\n",
    "df = df.assign(title_stem=df.title.apply(stem),\n",
    "               text_stem=df.text.apply(stem))\n",
    "df.head()"
   ]
  },
  {
   "cell_type": "markdown",
   "id": "5bbd4a39-1fa1-4efb-82f6-9259baa8eb87",
   "metadata": {
    "tags": []
   },
   "source": [
    "## count in title+text"
   ]
  },
  {
   "cell_type": "code",
   "execution_count": 7,
   "id": "56a544a4-d201-4f0f-9b03-8205c170bfa5",
   "metadata": {},
   "outputs": [],
   "source": [
    "def count_words(df) -> Counter:\n",
    "    word2doc_counter = Counter()\n",
    "\n",
    "    cols = ['title_stem', 'text_stem']\n",
    "    for title, text in df[cols].to_records(index=False):\n",
    "        doc_uniq_words = Counter(set((title + ' ' + text).split()))\n",
    "        word2doc_counter += doc_uniq_words\n",
    "    \n",
    "    return word2doc_counter\n",
    "\n",
    "\n",
    "def counter_to_file(counter: Counter, path: str):\n",
    "    with open(path, 'w') as f:\n",
    "        f.write('\\n'.join(f'{k} {v}' for k, v in counter.most_common()))"
   ]
  },
  {
   "cell_type": "code",
   "execution_count": 9,
   "id": "a6f66de4-dfdf-4b33-90f9-292c6c382c81",
   "metadata": {},
   "outputs": [
    {
     "name": "stdout",
     "output_type": "stream",
     "text": [
      "moika78\n",
      "spbdnevnik\n",
      "fontanka\n"
     ]
    }
   ],
   "source": [
    "# all sites\n",
    "counter_to_file(count_words(df), f'./processed/word_counts_title_text_stemmed.txt')\n",
    "\n",
    "for site in list(df.site.unique()):\n",
    "    print(site)\n",
    "    counter_to_file(count_words(df[df.site == site]), f'./processed/{site}/word_counts_title_text_stemmed.txt')"
   ]
  },
  {
   "cell_type": "code",
   "execution_count": 10,
   "id": "07f14c95-f155-4c08-a14c-d37e9e549e5f",
   "metadata": {},
   "outputs": [
    {
     "data": {
      "text/plain": [
       "{'писал',\n",
       " 'писала',\n",
       " 'писалао',\n",
       " 'писалапро',\n",
       " 'писали',\n",
       " 'писало',\n",
       " 'писателей',\n",
       " 'писателем',\n",
       " 'писатель',\n",
       " 'писательница',\n",
       " 'писательницы',\n",
       " 'писательского',\n",
       " 'писать',\n",
       " 'писатьТеперь'}"
      ]
     },
     "execution_count": 10,
     "metadata": {},
     "output_type": "execute_result"
    }
   ],
   "source": [
    "t = ' '.join(df.title + ' ' + df.text)\n",
    "set(filter(lambda word: word.startswith('писа'), t.split()))"
   ]
  },
  {
   "cell_type": "markdown",
   "id": "e9451a15-ceb7-4200-bea9-2e97e3c8622e",
   "metadata": {
    "tags": []
   },
   "source": [
    "## count in title"
   ]
  },
  {
   "cell_type": "code",
   "execution_count": 11,
   "id": "f07cd8ed-8576-48aa-8ef8-0186bba11516",
   "metadata": {},
   "outputs": [],
   "source": [
    "def count_words(df) -> Counter:\n",
    "    word2doc_counter = Counter()\n",
    "\n",
    "    cols = ['title_stem']\n",
    "    for title in list(df[cols].to_records(index=False)):\n",
    "        title = title[0]\n",
    "        doc_uniq_words = Counter(set(title.split()))\n",
    "        word2doc_counter += doc_uniq_words\n",
    "    \n",
    "    return word2doc_counter"
   ]
  },
  {
   "cell_type": "code",
   "execution_count": 12,
   "id": "27ecde20-0b35-455a-8782-f29fdcc4c2ec",
   "metadata": {},
   "outputs": [
    {
     "name": "stdout",
     "output_type": "stream",
     "text": [
      "moika78\n",
      "spbdnevnik\n",
      "fontanka\n"
     ]
    }
   ],
   "source": [
    "# all sites\n",
    "counter_to_file(count_words(df), f'./processed/word_counts_title_stemmed.txt')\n",
    "\n",
    "for site in list(df.site.unique()):\n",
    "    print(site)\n",
    "    counter_to_file(count_words(df[df.site == site]), f'./processed/{site}/word_counts_title_stemmed.txt')"
   ]
  },
  {
   "cell_type": "code",
   "execution_count": 21,
   "id": "a548ff19-bc0c-48f2-9fb2-303db535e02c",
   "metadata": {},
   "outputs": [],
   "source": [
    "from deeppavlov import build_model, configs\n",
    "from tqdm import tqdm\n",
    "import numpy as np"
   ]
  },
  {
   "cell_type": "markdown",
   "id": "0e1692e1-17b6-4e2f-b5a0-18fb142c2cfb",
   "metadata": {
    "tags": []
   },
   "source": [
    "# NER"
   ]
  },
  {
   "cell_type": "code",
   "execution_count": 150,
   "id": "de7630e8-b7d3-4ca8-880e-ded5c9827a1d",
   "metadata": {},
   "outputs": [],
   "source": [
    "# !python3 -m deeppavlov install ner_ontonotes"
   ]
  },
  {
   "cell_type": "code",
   "execution_count": 151,
   "id": "ba361e9c-708f-4d72-8653-816d8e9d72d5",
   "metadata": {},
   "outputs": [
    {
     "name": "stderr",
     "output_type": "stream",
     "text": [
      "2023-05-23 23:51:14.443 INFO in 'deeppavlov.download'['download'] at line 138: Skipped http://files.deeppavlov.ai/v1/ner/ner_rus_bert_torch_new.tar.gz download because of matching hashes\n",
      "Some weights of the model checkpoint at DeepPavlov/rubert-base-cased were not used when initializing BertForTokenClassification: ['cls.predictions.transform.LayerNorm.weight', 'cls.predictions.transform.dense.weight', 'cls.predictions.decoder.bias', 'cls.seq_relationship.weight', 'cls.predictions.transform.LayerNorm.bias', 'cls.predictions.decoder.weight', 'cls.predictions.transform.dense.bias', 'cls.seq_relationship.bias', 'cls.predictions.bias']\n",
      "- This IS expected if you are initializing BertForTokenClassification from the checkpoint of a model trained on another task or with another architecture (e.g. initializing a BertForSequenceClassification model from a BertForPreTraining model).\n",
      "- This IS NOT expected if you are initializing BertForTokenClassification from the checkpoint of a model that you expect to be exactly identical (initializing a BertForSequenceClassification model from a BertForSequenceClassification model).\n",
      "Some weights of BertForTokenClassification were not initialized from the model checkpoint at DeepPavlov/rubert-base-cased and are newly initialized: ['classifier.bias', 'classifier.weight']\n",
      "You should probably TRAIN this model on a down-stream task to be able to use it for predictions and inference.\n"
     ]
    }
   ],
   "source": [
    "\n",
    "\n",
    "ner_model = build_model(configs.ner.ner_rus_bert, download=True)"
   ]
  },
  {
   "cell_type": "code",
   "execution_count": 152,
   "id": "63d7c6fd-f41e-4a25-b1b3-5568b04560c6",
   "metadata": {
    "tags": []
   },
   "outputs": [
    {
     "name": "stderr",
     "output_type": "stream",
     "text": [
      "100%|█████████████████████████████████████████████████████████████████████████████████████████████████████████| 1873/1873 [28:48<00:00,  1.08it/s]\n"
     ]
    }
   ],
   "source": [
    "from tqdm import tqdm\n",
    "\n",
    "is_named_entity = lambda pair: pair[1] != 'O'\n",
    "\n",
    "named_entities_per_doc = []\n",
    "\n",
    "cols = ['title', 'text']\n",
    "for title, text in tqdm(df[cols].to_records(index=False), total=len(df)):\n",
    "    text = title + '. ' + text\n",
    "    \n",
    "    res = []\n",
    "    # bert limit is 512 tokens\n",
    "    k = 200\n",
    "    for i in range(0, len(text.split()), k):\n",
    "        text_batch = ' '.join(text.split()[i:i+k])\n",
    "\n",
    "        try:\n",
    "            pred = ner_model([text_batch])\n",
    "        except Exception as e:\n",
    "            print(f'err at text tokens={len(text.split())} batch tokens = {len(text_batch.split())}\\n{text_batch}')\n",
    "            raise e\n",
    "\n",
    "        word_x_pos = list(zip(pred[0][0], pred[1][0]))\n",
    "        word_x_pos = list(filter(is_named_entity, word_x_pos))\n",
    "        res += word_x_pos\n",
    "    \n",
    "    named_entities_per_doc.append(res)"
   ]
  },
  {
   "cell_type": "code",
   "execution_count": 160,
   "id": "d0825aad-5f73-47de-a825-3cb5631072c2",
   "metadata": {},
   "outputs": [],
   "source": [
    "def count_by_pos_tag(named_entities_per_doc: list, pos_tag: str = 'PER') -> Counter:\n",
    "\n",
    "    is_person = lambda pair: pos_tag in pair[1]\n",
    "    pers_stemmed = [list(filter(is_person, doc)) for doc in named_entities_per_doc]\n",
    "    pers_stemmed = [set([stemmer.stem(name) for name, pos_tag in doc]) for doc in pers_stemmed]\n",
    "\n",
    "    pers_counter = Counter()\n",
    "\n",
    "    for doc in pers_stemmed:\n",
    "        doc_uniq_pers = Counter(doc)\n",
    "        pers_counter += doc_uniq_pers\n",
    "    return pers_counter"
   ]
  },
  {
   "cell_type": "markdown",
   "id": "684609f0-9d26-47fd-ac64-7fed32d60956",
   "metadata": {},
   "source": [
    "## per"
   ]
  },
  {
   "cell_type": "code",
   "execution_count": 161,
   "id": "c141ec98-6a72-4c1c-ac8b-fa3a9b3712d1",
   "metadata": {},
   "outputs": [
    {
     "data": {
      "text/plain": [
       "[('александр', 336),\n",
       " ('ан', 169),\n",
       " ('бегл', 121),\n",
       " ('брусилов', 114),\n",
       " ('владимир', 102),\n",
       " ('андр', 80),\n",
       " ('миха', 80),\n",
       " ('натал', 77),\n",
       " ('серг', 69),\n",
       " ('дмитр', 68)]"
      ]
     },
     "execution_count": 161,
     "metadata": {},
     "output_type": "execute_result"
    }
   ],
   "source": [
    "pers_counter = count_by_pos_tag(named_entities_per_doc, 'PER')\n",
    "counter_to_file(pers_counter, './processed/persons_counts_title_text_stemmed.txt')\n",
    "pers_counter.most_common(10)"
   ]
  },
  {
   "cell_type": "code",
   "execution_count": 162,
   "id": "3dbf93ae-d787-49d5-9ff0-ce4e3d5bc2ec",
   "metadata": {},
   "outputs": [
    {
     "name": "stdout",
     "output_type": "stream",
     "text": [
      "moika78\n",
      "spbdnevnik\n",
      "fontanka\n"
     ]
    }
   ],
   "source": [
    "for site in list(df.site.unique()):\n",
    "    print(site)\n",
    "    site_df = df[df.site == site]\n",
    "    site_docs_ids = set(site_df.index.tolist())\n",
    "    \n",
    "    ner_per_doc_per_site = []\n",
    "    for i, ner in enumerate(named_entities_per_doc):\n",
    "        if i in site_docs_ids:\n",
    "            ner_per_doc_per_site.append(ner)\n",
    "\n",
    "    pers_counter = count_by_pos_tag(ner_per_doc_per_site, 'PER')\n",
    "    counter_to_file(pers_counter, f'./processed/{site}/persons_counts_title_text_stemmed.txt')\n",
    "    # pers_counter.most_common(10)"
   ]
  },
  {
   "cell_type": "markdown",
   "id": "34339e1d-a8c8-40ba-8ad0-f434e00a1f86",
   "metadata": {},
   "source": [
    "## org"
   ]
  },
  {
   "cell_type": "code",
   "execution_count": 163,
   "id": "40ea3200-73db-402a-8b01-444d3530e531",
   "metadata": {},
   "outputs": [
    {
     "data": {
      "text/plain": [
       "[('фонд', 358),\n",
       " ('центр', 288),\n",
       " ('комитет', 252),\n",
       " ('санктпетербург', 229),\n",
       " ('благотворительн', 180),\n",
       " ('мойка78', 159),\n",
       " ('сми', 147),\n",
       " ('социальн', 137),\n",
       " ('инвалид', 129),\n",
       " ('фонтанк', 127)]"
      ]
     },
     "execution_count": 163,
     "metadata": {},
     "output_type": "execute_result"
    }
   ],
   "source": [
    "pers_counter = count_by_pos_tag(named_entities_per_doc, 'ORG')\n",
    "counter_to_file(pers_counter, './processed/organizations_counts_title_text_stemmed.txt')\n",
    "pers_counter.most_common(10)"
   ]
  },
  {
   "cell_type": "code",
   "execution_count": 164,
   "id": "6c43c22e-3889-4c79-88d9-061944c39e43",
   "metadata": {},
   "outputs": [
    {
     "name": "stdout",
     "output_type": "stream",
     "text": [
      "moika78\n",
      "spbdnevnik\n",
      "fontanka\n"
     ]
    }
   ],
   "source": [
    "for site in list(df.site.unique()):\n",
    "    print(site)\n",
    "    site_df = df[df.site == site]\n",
    "    site_docs_ids = set(site_df.index.tolist())\n",
    "    \n",
    "    ner_per_doc_per_site = []\n",
    "    for i, ner in enumerate(named_entities_per_doc):\n",
    "        if i in site_docs_ids:\n",
    "            ner_per_doc_per_site.append(ner)\n",
    "\n",
    "    pers_counter = count_by_pos_tag(ner_per_doc_per_site, 'ORG')\n",
    "    counter_to_file(pers_counter, f'./processed/{site}/organizations_counts_title_text_stemmed.txt')\n",
    "    # pers_counter.most_common(10)"
   ]
  },
  {
   "cell_type": "markdown",
   "id": "41e1e335-e273-4aa7-9918-d877ba951ccc",
   "metadata": {},
   "source": [
    "## loc"
   ]
  },
  {
   "cell_type": "code",
   "execution_count": 165,
   "id": "64dde740-6d0e-4fc8-86a6-3f3cfc7f2878",
   "metadata": {},
   "outputs": [
    {
     "data": {
      "text/plain": [
       "[('петербург', 957),\n",
       " ('росс', 619),\n",
       " ('район', 423),\n",
       " ('санктпетербург', 310),\n",
       " ('рф', 204),\n",
       " ('москв', 172),\n",
       " ('област', 171),\n",
       " ('северн', 129),\n",
       " ('столиц', 117),\n",
       " ('ленинградск', 99)]"
      ]
     },
     "execution_count": 165,
     "metadata": {},
     "output_type": "execute_result"
    }
   ],
   "source": [
    "pers_counter = count_by_pos_tag(named_entities_per_doc, 'LOC')\n",
    "counter_to_file(pers_counter, './processed/locations_counts_title_text_stemmed.txt')\n",
    "pers_counter.most_common(10)"
   ]
  },
  {
   "cell_type": "code",
   "execution_count": 166,
   "id": "dec3b5a6-067a-4ee3-9f29-3c98d7411c9f",
   "metadata": {},
   "outputs": [
    {
     "name": "stdout",
     "output_type": "stream",
     "text": [
      "moika78\n",
      "spbdnevnik\n",
      "fontanka\n"
     ]
    }
   ],
   "source": [
    "for site in list(df.site.unique()):\n",
    "    print(site)\n",
    "    site_df = df[df.site == site]\n",
    "    site_docs_ids = set(site_df.index.tolist())\n",
    "    \n",
    "    ner_per_doc_per_site = []\n",
    "    for i, ner in enumerate(named_entities_per_doc):\n",
    "        if i in site_docs_ids:\n",
    "            ner_per_doc_per_site.append(ner)\n",
    "\n",
    "    pers_counter = count_by_pos_tag(ner_per_doc_per_site, 'LOC')\n",
    "    counter_to_file(pers_counter, f'./processed/{site}/locations_counts_title_text_stemmed.txt')\n",
    "    # pers_counter.most_common(10)"
   ]
  },
  {
   "cell_type": "markdown",
   "id": "2c95407d-8d26-40a1-9844-afe05946f4b3",
   "metadata": {},
   "source": [
    "# text embeddings"
   ]
  },
  {
   "cell_type": "code",
   "execution_count": 17,
   "id": "8550b010-e89f-4d04-888e-62181a12ff3f",
   "metadata": {},
   "outputs": [
    {
     "name": "stderr",
     "output_type": "stream",
     "text": [
      "Some weights of the model checkpoint at /Users/i.shamov/.deeppavlov/downloads/bert_models/multi_cased_L-12_H-768_A-12_pt were not used when initializing BertModel: ['cls.predictions.transform.dense.weight', 'cls.predictions.decoder.weight', 'cls.predictions.transform.LayerNorm.bias', 'cls.seq_relationship.weight', 'cls.predictions.bias', 'cls.seq_relationship.bias', 'cls.predictions.transform.LayerNorm.weight', 'cls.predictions.transform.dense.bias']\n",
      "- This IS expected if you are initializing BertModel from the checkpoint of a model trained on another task or with another architecture (e.g. initializing a BertForSequenceClassification model from a BertForPreTraining model).\n",
      "- This IS NOT expected if you are initializing BertModel from the checkpoint of a model that you expect to be exactly identical (initializing a BertForSequenceClassification model from a BertForSequenceClassification model).\n"
     ]
    }
   ],
   "source": [
    "model = build_model(configs.embedder.bert_embedder, download=False)"
   ]
  },
  {
   "cell_type": "code",
   "execution_count": 22,
   "id": "9c1243d0-6767-43b6-b0ca-bac3a0a71701",
   "metadata": {
    "tags": []
   },
   "outputs": [
    {
     "name": "stderr",
     "output_type": "stream",
     "text": [
      " 21%|██████████████████▋                                                                      | 392/1873 [06:03<35:10,  1.42s/it]"
     ]
    },
    {
     "name": "stdout",
     "output_type": "stream",
     "text": [
      "err at text tokens=219 batch tokens = 170\n",
      "Как получить дополнительные выходные уходу ребенкоминвалидом. Заместитель управляющего СанктПетербургским региональным отделением Фонда социального страхования Наталья Колшенская отвечает вопрос читателя Петербургского дневникаЗаместитель управляющего СанктПетербургским региональным отделением Фонда социального страхования Наталья Колшенская отвечает вопрос читателя Петербургского дневника Яосуществляю уход заребенкоминвалидом Слышала чтомогу воспользоваться правом напредоставление дополнительных оплачиваемых выходных дней дляухода заребенкоминвалидом Каким образом ямогу этосделать какие документы следует предъявить работодателю Предоставление дополнительных оплачиваемых выходных дней ухода детьмиинвалидами регулируетсяправилами утвержденными постановлением правительства РФ от13102014 1048Одному изродителей опекуну попечителю предоставляются поего заявлению четыре дополнительных оплачиваемых выходных дня вкалендарном месяце Периодичность подачи заявления ежемесячно вквартал вгод помере обращения илидр определяется родителем посогласованию сработодателем взависимости отнеобходимости использования дополнительных оплачиваемых выходных дней Расходы наоплату дополнительных выходных дней компенсирует работодателю Фонд социального страхованияРодитель опекун попечитель представляет следующие документы либо ихкопии1 справку подтверждающую факт установления инвалидности выданную бюро главным бюро Федеральным бюро медикосоциальной экспертизы представляется всоответствии сосроками установления инвалидности инвалидность бессрочная вгод в2 года в5 лет2 документы подтверждающие место жительства пребывания илифактического проживания ребенкаинвалида представляются раз3свидетельство орождении усыновлении ребенка либо документ подтверждающий установление опеки попечительства надребенкоминвалидом представляется раз4 справку\n"
     ]
    },
    {
     "name": "stderr",
     "output_type": "stream",
     "text": [
      "100%|████████████████████████████████████████████████████████████████████████████████████████| 1873/1873 [47:27<00:00,  1.52s/it]\n"
     ]
    }
   ],
   "source": [
    "cols = ['title', 'text']\n",
    "embs = []\n",
    "\n",
    "for title, text in tqdm(df[cols].to_records(index=False), total=len(df)):\n",
    "    text = title + '. ' + text\n",
    "    \n",
    "    res = []\n",
    "    # bert limit is 512 tokens\n",
    "    k = 170\n",
    "    for i in range(0, len(text.split()), k):\n",
    "        text_batch = ' '.join(text.split()[i:i+k])\n",
    "        try:\n",
    "            tokens, token_embs, subtokens, subtoken_embs, sent_max_embs, sent_mean_embs, bert_pooler_outputs = model([text_batch])\n",
    "            res.append(sent_mean_embs)\n",
    "        except Exception as e:\n",
    "            print(f'err at text tokens={len(text.split())} batch tokens = {len(text_batch.split())}\\n{text_batch}')\n",
    "            # raise e\n",
    "  \n",
    "    if len(res) == 1:\n",
    "        res = res[0]\n",
    "    else:\n",
    "        res = np.array(res).squeeze().mean(axis=0)\n",
    "\n",
    "    embs.append(sent_mean_embs)"
   ]
  },
  {
   "cell_type": "markdown",
   "id": "e2a091ad-9793-457b-ae93-43e3fd878b20",
   "metadata": {},
   "source": [
    "# sentiment bert+mlp"
   ]
  },
  {
   "cell_type": "code",
   "execution_count": 23,
   "id": "ae65265c-9ac9-4635-bb10-9150b340a2a9",
   "metadata": {},
   "outputs": [],
   "source": [
    "from sklearn.neural_network import MLPClassifier\n",
    "from sklearn.multioutput import MultiOutputClassifier\n",
    "import numpy as np"
   ]
  },
  {
   "cell_type": "code",
   "execution_count": 24,
   "id": "60805603-3e17-408c-baff-f6f2715f84a8",
   "metadata": {},
   "outputs": [
    {
     "name": "stdout",
     "output_type": "stream",
     "text": [
      "(1873, 768)\n"
     ]
    }
   ],
   "source": [
    "embs_arr = np.array(embs).squeeze()\n",
    "print(embs_arr.shape)\n",
    "\n",
    "model = MultiOutputClassifier(MLPClassifier(hidden_layer_sizes=(300, 100), max_iter=1000))"
   ]
  },
  {
   "cell_type": "code",
   "execution_count": 25,
   "id": "d01d72fb-c256-44b9-9581-e27126466ffb",
   "metadata": {
    "tags": []
   },
   "outputs": [
    {
     "data": {
      "text/plain": [
       "(108, 108)"
      ]
     },
     "execution_count": 25,
     "metadata": {},
     "output_type": "execute_result"
    }
   ],
   "source": [
    "train_embs = embs_arr[~df.sentiment.isna()]\n",
    "y = np.array(df[~df.sentiment.isna()].sentiment).reshape(-1, 1)\n",
    "len(train_embs), len(train_embs)"
   ]
  },
  {
   "cell_type": "code",
   "execution_count": 26,
   "id": "9dc68897-a7f5-436d-8c17-e729f30b39d6",
   "metadata": {},
   "outputs": [
    {
     "data": {
      "text/html": [
       "<div>\n",
       "<style scoped>\n",
       "    .dataframe tbody tr th:only-of-type {\n",
       "        vertical-align: middle;\n",
       "    }\n",
       "\n",
       "    .dataframe tbody tr th {\n",
       "        vertical-align: top;\n",
       "    }\n",
       "\n",
       "    .dataframe thead th {\n",
       "        text-align: right;\n",
       "    }\n",
       "</style>\n",
       "<table border=\"1\" class=\"dataframe\">\n",
       "  <thead>\n",
       "    <tr style=\"text-align: right;\">\n",
       "      <th></th>\n",
       "      <th>title</th>\n",
       "      <th>text</th>\n",
       "      <th>create_dttm</th>\n",
       "      <th>link</th>\n",
       "      <th>site</th>\n",
       "      <th>sentiment</th>\n",
       "      <th>ethics</th>\n",
       "      <th>title_stem</th>\n",
       "      <th>text_stem</th>\n",
       "      <th>sentiment_predicted</th>\n",
       "    </tr>\n",
       "  </thead>\n",
       "  <tbody>\n",
       "    <tr>\n",
       "      <th>0</th>\n",
       "      <td>Инвалидам перекрыли входы кафе магазины Кроншт...</td>\n",
       "      <td>Магазины кафе Кронштадта оказались недоступны ...</td>\n",
       "      <td>2018-01-23 13:16:00</td>\n",
       "      <td>https://moika78.ru/news/2018-01-23/12164-inval...</td>\n",
       "      <td>moika78</td>\n",
       "      <td>0.0</td>\n",
       "      <td>NaN</td>\n",
       "      <td>инвалид перекр вход каф магазин кронштадт</td>\n",
       "      <td>магазин каф кронштадт оказа недоступн инвалид ...</td>\n",
       "      <td>0</td>\n",
       "    </tr>\n",
       "    <tr>\n",
       "      <th>1</th>\n",
       "      <td>Петербургские инвалиды хотят хвалить метрополитен</td>\n",
       "      <td>Оказывать помощь некоторым группам инвалидам с...</td>\n",
       "      <td>2018-01-30 15:53:00</td>\n",
       "      <td>https://moika78.ru/news/2018-01-30/13170-peter...</td>\n",
       "      <td>moika78</td>\n",
       "      <td>NaN</td>\n",
       "      <td>NaN</td>\n",
       "      <td>петербургск инвалид хот хвал метрополит</td>\n",
       "      <td>оказыва помощ некотор групп инвалид станц метр...</td>\n",
       "      <td>0</td>\n",
       "    </tr>\n",
       "    <tr>\n",
       "      <th>2</th>\n",
       "      <td>Петербургских родителей детейинвалидов поддерж...</td>\n",
       "      <td>Горячая линия родителей детей инвалидностью на...</td>\n",
       "      <td>2018-01-31 13:12:00</td>\n",
       "      <td>https://moika78.ru/news/2018-01-31/13312-peter...</td>\n",
       "      <td>moika78</td>\n",
       "      <td>NaN</td>\n",
       "      <td>NaN</td>\n",
       "      <td>петербургск родител детейинвалид поддержат спе...</td>\n",
       "      <td>горяч лин родител дет инвалидн нача работ пете...</td>\n",
       "      <td>0</td>\n",
       "    </tr>\n",
       "    <tr>\n",
       "      <th>3</th>\n",
       "      <td>В Петербурге оштрафовали Мираж Синема отказ об...</td>\n",
       "      <td>Роспотребнадзор СанктПетербургу оштрафовали ки...</td>\n",
       "      <td>2018-02-14 13:38:00</td>\n",
       "      <td>https://moika78.ru/news/2018-02-14/14985-v-pet...</td>\n",
       "      <td>moika78</td>\n",
       "      <td>NaN</td>\n",
       "      <td>NaN</td>\n",
       "      <td>в петербург оштрафова мираж синем отказ обслуж...</td>\n",
       "      <td>роспотребнадзор санктпетербург оштрафова кинот...</td>\n",
       "      <td>0</td>\n",
       "    </tr>\n",
       "    <tr>\n",
       "      <th>4</th>\n",
       "      <td>Люди каменного века относились инвалидам уваже...</td>\n",
       "      <td>Первобытные люди жившие территории современной...</td>\n",
       "      <td>2018-02-16 20:24:00</td>\n",
       "      <td>https://moika78.ru/news/2018-02-16/15298-lyudi...</td>\n",
       "      <td>moika78</td>\n",
       "      <td>NaN</td>\n",
       "      <td>NaN</td>\n",
       "      <td>люд камен век относ инвалид уважен</td>\n",
       "      <td>первобытн люд живш территор современ росс отно...</td>\n",
       "      <td>0</td>\n",
       "    </tr>\n",
       "  </tbody>\n",
       "</table>\n",
       "</div>"
      ],
      "text/plain": [
       "                                               title  \\\n",
       "0  Инвалидам перекрыли входы кафе магазины Кроншт...   \n",
       "1  Петербургские инвалиды хотят хвалить метрополитен   \n",
       "2  Петербургских родителей детейинвалидов поддерж...   \n",
       "3  В Петербурге оштрафовали Мираж Синема отказ об...   \n",
       "4  Люди каменного века относились инвалидам уваже...   \n",
       "\n",
       "                                                text          create_dttm  \\\n",
       "0  Магазины кафе Кронштадта оказались недоступны ...  2018-01-23 13:16:00   \n",
       "1  Оказывать помощь некоторым группам инвалидам с...  2018-01-30 15:53:00   \n",
       "2  Горячая линия родителей детей инвалидностью на...  2018-01-31 13:12:00   \n",
       "3  Роспотребнадзор СанктПетербургу оштрафовали ки...  2018-02-14 13:38:00   \n",
       "4  Первобытные люди жившие территории современной...  2018-02-16 20:24:00   \n",
       "\n",
       "                                                link     site  sentiment  \\\n",
       "0  https://moika78.ru/news/2018-01-23/12164-inval...  moika78        0.0   \n",
       "1  https://moika78.ru/news/2018-01-30/13170-peter...  moika78        NaN   \n",
       "2  https://moika78.ru/news/2018-01-31/13312-peter...  moika78        NaN   \n",
       "3  https://moika78.ru/news/2018-02-14/14985-v-pet...  moika78        NaN   \n",
       "4  https://moika78.ru/news/2018-02-16/15298-lyudi...  moika78        NaN   \n",
       "\n",
       "   ethics                                         title_stem  \\\n",
       "0     NaN          инвалид перекр вход каф магазин кронштадт   \n",
       "1     NaN            петербургск инвалид хот хвал метрополит   \n",
       "2     NaN  петербургск родител детейинвалид поддержат спе...   \n",
       "3     NaN  в петербург оштрафова мираж синем отказ обслуж...   \n",
       "4     NaN                 люд камен век относ инвалид уважен   \n",
       "\n",
       "                                           text_stem  sentiment_predicted  \n",
       "0  магазин каф кронштадт оказа недоступн инвалид ...                    0  \n",
       "1  оказыва помощ некотор групп инвалид станц метр...                    0  \n",
       "2  горяч лин родител дет инвалидн нача работ пете...                    0  \n",
       "3  роспотребнадзор санктпетербург оштрафова кинот...                    0  \n",
       "4  первобытн люд живш территор современ росс отно...                    0  "
      ]
     },
     "execution_count": 26,
     "metadata": {},
     "output_type": "execute_result"
    }
   ],
   "source": [
    "model.fit(train_embs, y)\n",
    "\n",
    "pred_label = model.predict(embs_arr)\n",
    "df = df.assign(sentiment_predicted=pred_label.astype(int))\n",
    "df.head()"
   ]
  },
  {
   "cell_type": "code",
   "execution_count": 27,
   "id": "8bf67d93-95cc-41d8-af98-d8a7284c7bf6",
   "metadata": {},
   "outputs": [
    {
     "data": {
      "text/plain": [
       "array([[<Axes: title={'center': 'sentiment'}>,\n",
       "        <Axes: title={'center': 'ethics'}>],\n",
       "       [<Axes: title={'center': 'sentiment_predicted'}>, <Axes: >]],\n",
       "      dtype=object)"
      ]
     },
     "execution_count": 27,
     "metadata": {},
     "output_type": "execute_result"
    },
    {
     "data": {
      "image/png": "[encoded data removed]",
      "text/plain": [
       "<Figure size 432x288 with 4 Axes>"
      ]
     },
     "metadata": {
      "needs_background": "light"
     },
     "output_type": "display_data"
    }
   ],
   "source": [
    "df.hist()"
   ]
  },
  {
   "cell_type": "markdown",
   "id": "94dfee0e-87a0-4f28-886c-84408cf9b3ca",
   "metadata": {},
   "source": [
    "# sentiment tfidf+logreg"
   ]
  },
  {
   "cell_type": "code",
   "execution_count": 218,
   "id": "1e48951e-64c3-4132-a15b-5bb65ee236de",
   "metadata": {},
   "outputs": [],
   "source": [
    "# from sklearn.multioutput import MultiOutputClassifier\n",
    "# from sklearn.svm import LinearSVC\n",
    "# from sklearn.feature_extraction.text import TfidfVectorizer\n",
    "# import numpy as np\n",
    "\n",
    "# vectorizer = TfidfVectorizer()\n",
    "# model = MultiOutputClassifier(LinearSVC())\n",
    "\n",
    "# train = df[~df.sentiment.isna()]\n",
    "# len(train)\n",
    "\n",
    "# texts = train.title_stem + train.text_stem\n",
    "# y = np.array(train.sentiment).reshape(-1, 1)\n",
    "\n",
    "# vectorizer.fit(texts)\n",
    "# vecs = vectorizer.transform(texts)\n",
    "\n",
    "# model.fit(vecs, y)\n",
    "\n",
    "# pred_label = model.predict(vectorizer.transform(df.title_stem + df.text_stem))\n",
    "# df = df.assign(sentiment_predicted=pred_label.astype(int))\n",
    "# df.head()"
   ]
  },
  {
   "cell_type": "markdown",
   "id": "651df1df-423b-446f-ac60-f4df7f41dda5",
   "metadata": {},
   "source": [
    "# ethics bert + mlp"
   ]
  },
  {
   "cell_type": "code",
   "execution_count": 28,
   "id": "0f5d0bdd-36fe-4d70-996b-5165aed723ec",
   "metadata": {},
   "outputs": [
    {
     "name": "stdout",
     "output_type": "stream",
     "text": [
      "(1873, 768)\n"
     ]
    }
   ],
   "source": [
    "embs_arr = np.array(embs).squeeze()\n",
    "print(embs_arr.shape)\n",
    "\n",
    "model = MultiOutputClassifier(MLPClassifier(hidden_layer_sizes=(300, 100), max_iter=1000))"
   ]
  },
  {
   "cell_type": "code",
   "execution_count": 29,
   "id": "e6e232dd-a9e7-401d-a9a6-34471a541cfa",
   "metadata": {
    "tags": []
   },
   "outputs": [
    {
     "data": {
      "text/plain": [
       "(81, 81)"
      ]
     },
     "execution_count": 29,
     "metadata": {},
     "output_type": "execute_result"
    }
   ],
   "source": [
    "train_embs = embs_arr[~df.ethics.isna()]\n",
    "y = np.array(df[~df.ethics.isna()].ethics).reshape(-1, 1)\n",
    "len(train_embs), len(train_embs)"
   ]
  },
  {
   "cell_type": "code",
   "execution_count": 30,
   "id": "824558f1-e0ff-4930-b60c-1171ed9dca63",
   "metadata": {},
   "outputs": [
    {
     "data": {
      "text/html": [
       "<div>\n",
       "<style scoped>\n",
       "    .dataframe tbody tr th:only-of-type {\n",
       "        vertical-align: middle;\n",
       "    }\n",
       "\n",
       "    .dataframe tbody tr th {\n",
       "        vertical-align: top;\n",
       "    }\n",
       "\n",
       "    .dataframe thead th {\n",
       "        text-align: right;\n",
       "    }\n",
       "</style>\n",
       "<table border=\"1\" class=\"dataframe\">\n",
       "  <thead>\n",
       "    <tr style=\"text-align: right;\">\n",
       "      <th></th>\n",
       "      <th>title</th>\n",
       "      <th>text</th>\n",
       "      <th>create_dttm</th>\n",
       "      <th>link</th>\n",
       "      <th>site</th>\n",
       "      <th>sentiment</th>\n",
       "      <th>ethics</th>\n",
       "      <th>title_stem</th>\n",
       "      <th>text_stem</th>\n",
       "      <th>sentiment_predicted</th>\n",
       "      <th>ethics_predicted</th>\n",
       "    </tr>\n",
       "  </thead>\n",
       "  <tbody>\n",
       "    <tr>\n",
       "      <th>0</th>\n",
       "      <td>Инвалидам перекрыли входы кафе магазины Кроншт...</td>\n",
       "      <td>Магазины кафе Кронштадта оказались недоступны ...</td>\n",
       "      <td>2018-01-23 13:16:00</td>\n",
       "      <td>https://moika78.ru/news/2018-01-23/12164-inval...</td>\n",
       "      <td>moika78</td>\n",
       "      <td>0.0</td>\n",
       "      <td>NaN</td>\n",
       "      <td>инвалид перекр вход каф магазин кронштадт</td>\n",
       "      <td>магазин каф кронштадт оказа недоступн инвалид ...</td>\n",
       "      <td>0</td>\n",
       "      <td>1</td>\n",
       "    </tr>\n",
       "    <tr>\n",
       "      <th>1</th>\n",
       "      <td>Петербургские инвалиды хотят хвалить метрополитен</td>\n",
       "      <td>Оказывать помощь некоторым группам инвалидам с...</td>\n",
       "      <td>2018-01-30 15:53:00</td>\n",
       "      <td>https://moika78.ru/news/2018-01-30/13170-peter...</td>\n",
       "      <td>moika78</td>\n",
       "      <td>NaN</td>\n",
       "      <td>NaN</td>\n",
       "      <td>петербургск инвалид хот хвал метрополит</td>\n",
       "      <td>оказыва помощ некотор групп инвалид станц метр...</td>\n",
       "      <td>0</td>\n",
       "      <td>1</td>\n",
       "    </tr>\n",
       "    <tr>\n",
       "      <th>2</th>\n",
       "      <td>Петербургских родителей детейинвалидов поддерж...</td>\n",
       "      <td>Горячая линия родителей детей инвалидностью на...</td>\n",
       "      <td>2018-01-31 13:12:00</td>\n",
       "      <td>https://moika78.ru/news/2018-01-31/13312-peter...</td>\n",
       "      <td>moika78</td>\n",
       "      <td>NaN</td>\n",
       "      <td>NaN</td>\n",
       "      <td>петербургск родител детейинвалид поддержат спе...</td>\n",
       "      <td>горяч лин родител дет инвалидн нача работ пете...</td>\n",
       "      <td>0</td>\n",
       "      <td>1</td>\n",
       "    </tr>\n",
       "    <tr>\n",
       "      <th>3</th>\n",
       "      <td>В Петербурге оштрафовали Мираж Синема отказ об...</td>\n",
       "      <td>Роспотребнадзор СанктПетербургу оштрафовали ки...</td>\n",
       "      <td>2018-02-14 13:38:00</td>\n",
       "      <td>https://moika78.ru/news/2018-02-14/14985-v-pet...</td>\n",
       "      <td>moika78</td>\n",
       "      <td>NaN</td>\n",
       "      <td>NaN</td>\n",
       "      <td>в петербург оштрафова мираж синем отказ обслуж...</td>\n",
       "      <td>роспотребнадзор санктпетербург оштрафова кинот...</td>\n",
       "      <td>0</td>\n",
       "      <td>0</td>\n",
       "    </tr>\n",
       "    <tr>\n",
       "      <th>4</th>\n",
       "      <td>Люди каменного века относились инвалидам уваже...</td>\n",
       "      <td>Первобытные люди жившие территории современной...</td>\n",
       "      <td>2018-02-16 20:24:00</td>\n",
       "      <td>https://moika78.ru/news/2018-02-16/15298-lyudi...</td>\n",
       "      <td>moika78</td>\n",
       "      <td>NaN</td>\n",
       "      <td>NaN</td>\n",
       "      <td>люд камен век относ инвалид уважен</td>\n",
       "      <td>первобытн люд живш территор современ росс отно...</td>\n",
       "      <td>0</td>\n",
       "      <td>1</td>\n",
       "    </tr>\n",
       "  </tbody>\n",
       "</table>\n",
       "</div>"
      ],
      "text/plain": [
       "                                               title  \\\n",
       "0  Инвалидам перекрыли входы кафе магазины Кроншт...   \n",
       "1  Петербургские инвалиды хотят хвалить метрополитен   \n",
       "2  Петербургских родителей детейинвалидов поддерж...   \n",
       "3  В Петербурге оштрафовали Мираж Синема отказ об...   \n",
       "4  Люди каменного века относились инвалидам уваже...   \n",
       "\n",
       "                                                text          create_dttm  \\\n",
       "0  Магазины кафе Кронштадта оказались недоступны ...  2018-01-23 13:16:00   \n",
       "1  Оказывать помощь некоторым группам инвалидам с...  2018-01-30 15:53:00   \n",
       "2  Горячая линия родителей детей инвалидностью на...  2018-01-31 13:12:00   \n",
       "3  Роспотребнадзор СанктПетербургу оштрафовали ки...  2018-02-14 13:38:00   \n",
       "4  Первобытные люди жившие территории современной...  2018-02-16 20:24:00   \n",
       "\n",
       "                                                link     site  sentiment  \\\n",
       "0  https://moika78.ru/news/2018-01-23/12164-inval...  moika78        0.0   \n",
       "1  https://moika78.ru/news/2018-01-30/13170-peter...  moika78        NaN   \n",
       "2  https://moika78.ru/news/2018-01-31/13312-peter...  moika78        NaN   \n",
       "3  https://moika78.ru/news/2018-02-14/14985-v-pet...  moika78        NaN   \n",
       "4  https://moika78.ru/news/2018-02-16/15298-lyudi...  moika78        NaN   \n",
       "\n",
       "   ethics                                         title_stem  \\\n",
       "0     NaN          инвалид перекр вход каф магазин кронштадт   \n",
       "1     NaN            петербургск инвалид хот хвал метрополит   \n",
       "2     NaN  петербургск родител детейинвалид поддержат спе...   \n",
       "3     NaN  в петербург оштрафова мираж синем отказ обслуж...   \n",
       "4     NaN                 люд камен век относ инвалид уважен   \n",
       "\n",
       "                                           text_stem  sentiment_predicted  \\\n",
       "0  магазин каф кронштадт оказа недоступн инвалид ...                    0   \n",
       "1  оказыва помощ некотор групп инвалид станц метр...                    0   \n",
       "2  горяч лин родител дет инвалидн нача работ пете...                    0   \n",
       "3  роспотребнадзор санктпетербург оштрафова кинот...                    0   \n",
       "4  первобытн люд живш территор современ росс отно...                    0   \n",
       "\n",
       "   ethics_predicted  \n",
       "0                 1  \n",
       "1                 1  \n",
       "2                 1  \n",
       "3                 0  \n",
       "4                 1  "
      ]
     },
     "execution_count": 30,
     "metadata": {},
     "output_type": "execute_result"
    }
   ],
   "source": [
    "model.fit(train_embs, y)\n",
    "\n",
    "pred_label = model.predict(embs_arr)\n",
    "df = df.assign(ethics_predicted=pred_label.astype(int))\n",
    "df.head()"
   ]
  },
  {
   "cell_type": "code",
   "execution_count": 31,
   "id": "71668b26-b677-41aa-9244-7ea957fc3646",
   "metadata": {},
   "outputs": [
    {
     "data": {
      "text/plain": [
       "array([[<Axes: title={'center': 'sentiment'}>,\n",
       "        <Axes: title={'center': 'ethics'}>],\n",
       "       [<Axes: title={'center': 'sentiment_predicted'}>,\n",
       "        <Axes: title={'center': 'ethics_predicted'}>]], dtype=object)"
      ]
     },
     "execution_count": 31,
     "metadata": {},
     "output_type": "execute_result"
    },
    {
     "data": {
      "image/png": "[encoded data removed]",
      "text/plain": [
       "<Figure size 432x288 with 4 Axes>"
      ]
     },
     "metadata": {
      "needs_background": "light"
     },
     "output_type": "display_data"
    }
   ],
   "source": [
    "df.hist()"
   ]
  },
  {
   "cell_type": "code",
   "execution_count": null,
   "id": "1c763b93-18ba-43d4-b491-0cdf439cbb10",
   "metadata": {},
   "outputs": [],
   "source": []
  },
  {
   "cell_type": "markdown",
   "id": "30ecd6f4-3305-4459-82ef-dc05dc6fc1fd",
   "metadata": {},
   "source": [
    "# save"
   ]
  },
  {
   "cell_type": "code",
   "execution_count": 32,
   "id": "5c258e2e-a347-4b2b-8035-547aeebeceff",
   "metadata": {},
   "outputs": [],
   "source": [
    "# df.to_csv('./processed/articles_predicted.csv', index=False)"
   ]
  },
  {
   "cell_type": "code",
   "execution_count": 33,
   "id": "222277b6-b83a-47e9-a1a6-1981b47aa342",
   "metadata": {},
   "outputs": [
    {
     "name": "stderr",
     "output_type": "stream",
     "text": [
      "/var/folders/xh/q37khl051cq8pp1989f25fhh0000gp/T/ipykernel_44390/24798303.py:4: FutureWarning: As the xlwt package is no longer maintained, the xlwt engine will be removed in a future version of pandas. This is the only engine in pandas that supports writing in the xls format. Install openpyxl and write to an xlsx file instead. You can set the option io.excel.xls.writer to 'xlwt' to silence this warning. While this option is deprecated and will also raise a warning, it can be globally set and the warning suppressed.\n",
      "  save_df.to_excel('./processed/articles_predicted.xls', index=False)\n"
     ]
    }
   ],
   "source": [
    "save_df = df.drop(['title_stem', 'text_stem'], axis=1)\n",
    "save_df = save_df.assign(text=df.text.apply(lambda t: t[:32766]))\n",
    "\n",
    "save_df.to_excel('./processed/articles_predicted.xls', index=False)"
   ]
  },
  {
   "cell_type": "code",
   "execution_count": null,
   "id": "5aebd8bc-91cb-447b-81a5-66577b5573f4",
   "metadata": {},
   "outputs": [],
   "source": []
  }
 ],
 "metadata": {
  "kernelspec": {
   "display_name": "Python 3 (ipykernel)",
   "language": "python",
   "name": "python3"
  },
  "language_info": {
   "codemirror_mode": {
    "name": "ipython",
    "version": 3
   },
   "file_extension": ".py",
   "mimetype": "text/x-python",
   "name": "python",
   "nbconvert_exporter": "python",
   "pygments_lexer": "ipython3",
   "version": "3.9.16"
  }
 },
 "nbformat": 4,
 "nbformat_minor": 5
}
