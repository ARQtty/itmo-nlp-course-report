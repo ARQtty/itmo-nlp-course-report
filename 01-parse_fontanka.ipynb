{
 "cells": [
  {
   "cell_type": "code",
   "execution_count": 1,
   "id": "72700c92-3de7-4d1f-ac47-c90125d5057d",
   "metadata": {},
   "outputs": [],
   "source": [
    "import pandas as pd"
   ]
  },
  {
   "cell_type": "code",
   "execution_count": 2,
   "id": "8d03bfd0-4e64-4bfb-b34b-45c0ae7575ac",
   "metadata": {},
   "outputs": [],
   "source": [
    "from src.parsers import FontankaPage\n",
    "from src.parsers.utils import download_url"
   ]
  },
  {
   "cell_type": "code",
   "execution_count": 3,
   "id": "a17b1355-6170-4a0b-9051-a8cb62e473d3",
   "metadata": {},
   "outputs": [
    {
     "data": {
      "text/plain": [
       "['https://www.fontanka.ru/2018/01/11/064/',\n",
       " 'https://www.fontanka.ru/2018/01/12/047/',\n",
       " 'https://www.fontanka.ru/2018/01/13/052/']"
      ]
     },
     "execution_count": 3,
     "metadata": {},
     "output_type": "execute_result"
    }
   ],
   "source": [
    "s = open('./raw/links/links_fontanka.txt').read()\n",
    "\n",
    "is_link = lambda word: word.startswith('https')\n",
    "filter_link = lambda row: list(filter(is_link, row.split()))\n",
    "\n",
    "links = list(map(filter_link, s.splitlines()))\n",
    "links = list(filter(lambda arr: len(arr), links))\n",
    "links = [x[0] for x in links]\n",
    "links[:3]"
   ]
  },
  {
   "cell_type": "code",
   "execution_count": 4,
   "id": "2aca81ed-f769-497f-93f6-baa360d2c49e",
   "metadata": {
    "tags": []
   },
   "outputs": [
    {
     "name": "stderr",
     "output_type": "stream",
     "text": [
      "100%|███████████████████████████████████████████████████████████████████████████████████████████████████████████| 803/803 [09:25<00:00,  1.42it/s]\n"
     ]
    }
   ],
   "source": [
    "from time import sleep\n",
    "from tqdm import tqdm\n",
    "\n",
    "records = []\n",
    "\n",
    "for i, link in tqdm(enumerate(links), total=len(links)):\n",
    "    sleep(0.2)\n",
    "    \n",
    "    try:\n",
    "        source = download_url(link)\n",
    "    except Exception as e:\n",
    "        print(f'error downloading page {i} with err {e}')\n",
    "        continue\n",
    "    \n",
    "    page_name = link.split('/')[-2]\n",
    "    with open(f'raw/pages/{page_name}', 'w') as f:\n",
    "        f.write(source)\n",
    "    \n",
    "    try:\n",
    "        content = FontankaPage(source)\n",
    "        records.append(content)\n",
    "    except Exception as e:\n",
    "        print(f'error parsing page {i} with err {e}')\n",
    "        continue"
   ]
  },
  {
   "cell_type": "code",
   "execution_count": 5,
   "id": "794b71c0-b373-4a92-af20-17b5163c6a94",
   "metadata": {},
   "outputs": [
    {
     "name": "stdout",
     "output_type": "stream",
     "text": [
      "except\n",
      "(803, 4)\n"
     ]
    },
    {
     "data": {
      "text/html": [
       "<div>\n",
       "<style scoped>\n",
       "    .dataframe tbody tr th:only-of-type {\n",
       "        vertical-align: middle;\n",
       "    }\n",
       "\n",
       "    .dataframe tbody tr th {\n",
       "        vertical-align: top;\n",
       "    }\n",
       "\n",
       "    .dataframe thead th {\n",
       "        text-align: right;\n",
       "    }\n",
       "</style>\n",
       "<table border=\"1\" class=\"dataframe\">\n",
       "  <thead>\n",
       "    <tr style=\"text-align: right;\">\n",
       "      <th></th>\n",
       "      <th>title</th>\n",
       "      <th>text</th>\n",
       "      <th>create_dttm</th>\n",
       "      <th>link</th>\n",
       "    </tr>\n",
       "  </thead>\n",
       "  <tbody>\n",
       "    <tr>\n",
       "      <th>0</th>\n",
       "      <td>Люди без подписи</td>\n",
       "      <td>Автор петиции «Прекратите ущемление прав людей...</td>\n",
       "      <td>11 января 2018, 13:41</td>\n",
       "      <td>https://www.fontanka.ru/2018/01/11/064/</td>\n",
       "    </tr>\n",
       "    <tr>\n",
       "      <th>1</th>\n",
       "      <td>В Петербурге инвалидам хотят разрешить ездить ...</td>\n",
       "      <td>Депутаты петербургского Законодательного собра...</td>\n",
       "      <td>12 января 2018, 11:55</td>\n",
       "      <td>https://www.fontanka.ru/2018/01/12/047/</td>\n",
       "    </tr>\n",
       "    <tr>\n",
       "      <th>2</th>\n",
       "      <td>Дана хочет слышать</td>\n",
       "      <td>«Хорошо учится, любит читать…», - слова мамы о...</td>\n",
       "      <td>13 января 2018, 18:05</td>\n",
       "      <td>https://www.fontanka.ru/2018/01/13/052/</td>\n",
       "    </tr>\n",
       "    <tr>\n",
       "      <th>3</th>\n",
       "      <td>Волонтёры ГАООРДИ подарили праздник более 200 ...</td>\n",
       "      <td>Санкт-Петербургская ассоциация общественных об...</td>\n",
       "      <td>15 января 2018, 10:45</td>\n",
       "      <td>https://www.fontanka.ru/2018/01/15/026/</td>\n",
       "    </tr>\n",
       "    <tr>\n",
       "      <th>4</th>\n",
       "      <td>Из-за отсутствия социального такси сосновоборс...</td>\n",
       "      <td>Прокурор города Сосновый Бор Ленинградской обл...</td>\n",
       "      <td>16 января 2018, 13:01</td>\n",
       "      <td>https://www.fontanka.ru/2018/01/16/924/</td>\n",
       "    </tr>\n",
       "  </tbody>\n",
       "</table>\n",
       "</div>"
      ],
      "text/plain": [
       "                                               title  \\\n",
       "0                                   Люди без подписи   \n",
       "1  В Петербурге инвалидам хотят разрешить ездить ...   \n",
       "2                                 Дана хочет слышать   \n",
       "3  Волонтёры ГАООРДИ подарили праздник более 200 ...   \n",
       "4  Из-за отсутствия социального такси сосновоборс...   \n",
       "\n",
       "                                                text            create_dttm  \\\n",
       "0  Автор петиции «Прекратите ущемление прав людей...  11 января 2018, 13:41   \n",
       "1  Депутаты петербургского Законодательного собра...  12 января 2018, 11:55   \n",
       "2  «Хорошо учится, любит читать…», - слова мамы о...  13 января 2018, 18:05   \n",
       "3  Санкт-Петербургская ассоциация общественных об...  15 января 2018, 10:45   \n",
       "4  Прокурор города Сосновый Бор Ленинградской обл...  16 января 2018, 13:01   \n",
       "\n",
       "                                      link  \n",
       "0  https://www.fontanka.ru/2018/01/11/064/  \n",
       "1  https://www.fontanka.ru/2018/01/12/047/  \n",
       "2  https://www.fontanka.ru/2018/01/13/052/  \n",
       "3  https://www.fontanka.ru/2018/01/15/026/  \n",
       "4  https://www.fontanka.ru/2018/01/16/924/  "
      ]
     },
     "execution_count": 5,
     "metadata": {},
     "output_type": "execute_result"
    }
   ],
   "source": [
    "def make_tuple(p) -> tuple:\n",
    "    try: \n",
    "        return (p.get_header(), p.get_main_text(), p.get_create_date()) \n",
    "    except: \n",
    "        print('except')\n",
    "        return ('header', 'text', '2022-01-01')\n",
    "\n",
    "tuples = [make_tuple(page) for page in records]\n",
    "\n",
    "df = pd.DataFrame.from_records(tuples, columns=['title', 'text', 'create_dttm']).assign(link=links)\n",
    "print(df.shape)\n",
    "df.head()"
   ]
  },
  {
   "cell_type": "code",
   "execution_count": 6,
   "id": "448ef600-221a-4e37-a28a-a9027a4c1bcd",
   "metadata": {},
   "outputs": [],
   "source": [
    "df.to_csv('./raw/articles/fontanka.csv', index=False)"
   ]
  },
  {
   "cell_type": "code",
   "execution_count": null,
   "id": "015bfc9d-4188-4a7f-832c-8c13e7cb7471",
   "metadata": {},
   "outputs": [],
   "source": []
  }
 ],
 "metadata": {
  "kernelspec": {
   "display_name": "Python 3 (ipykernel)",
   "language": "python",
   "name": "python3"
  },
  "language_info": {
   "codemirror_mode": {
    "name": "ipython",
    "version": 3
   },
   "file_extension": ".py",
   "mimetype": "text/x-python",
   "name": "python",
   "nbconvert_exporter": "python",
   "pygments_lexer": "ipython3",
   "version": "3.9.16"
  }
 },
 "nbformat": 4,
 "nbformat_minor": 5
}
