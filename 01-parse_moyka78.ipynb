{
 "cells": [
  {
   "cell_type": "code",
   "execution_count": 1,
   "id": "72700c92-3de7-4d1f-ac47-c90125d5057d",
   "metadata": {},
   "outputs": [],
   "source": [
    "import pandas as pd"
   ]
  },
  {
   "cell_type": "code",
   "execution_count": 2,
   "id": "8d03bfd0-4e64-4bfb-b34b-45c0ae7575ac",
   "metadata": {},
   "outputs": [],
   "source": [
    "from src.parsers.moyka78_page import Moyka78Page\n",
    "from src.parsers.utils import download_url"
   ]
  },
  {
   "cell_type": "code",
   "execution_count": 3,
   "id": "a17b1355-6170-4a0b-9051-a8cb62e473d3",
   "metadata": {},
   "outputs": [
    {
     "data": {
      "text/plain": [
       "['https://moika78.ru/news/2018-01-23/12164-invalidam-perekryli-vkhody-v-kafe-i-magaziny-kronshtadta/',\n",
       " 'https://moika78.ru/news/2018-01-30/13170-peterburgskiey-invalidy-ne-khotyat-khvalit-metropoliten/',\n",
       " 'https://moika78.ru/news/2018-01-31/13312-peterburgskikh-roditeley-detey-invalidov-podderzhat-spetsialisty-goryachey-linii/']"
      ]
     },
     "execution_count": 3,
     "metadata": {},
     "output_type": "execute_result"
    }
   ],
   "source": [
    "s = open('./raw/links/links_moika78.txt').read()\n",
    "\n",
    "is_link = lambda word: word.startswith('https')\n",
    "filter_link = lambda row: list(filter(is_link, row.split()))\n",
    "\n",
    "links = list(map(filter_link, s.splitlines()))\n",
    "links = list(filter(lambda arr: len(arr), links))\n",
    "links = [x[0] for x in links]\n",
    "links[:3]"
   ]
  },
  {
   "cell_type": "code",
   "execution_count": 4,
   "id": "2aca81ed-f769-497f-93f6-baa360d2c49e",
   "metadata": {
    "tags": []
   },
   "outputs": [
    {
     "name": "stderr",
     "output_type": "stream",
     "text": [
      "100%|███████████████████████████████████████████████████████████████████████████████████████████████████████████| 357/357 [01:56<00:00,  3.07it/s]\n"
     ]
    }
   ],
   "source": [
    "from time import sleep\n",
    "from tqdm import tqdm\n",
    "\n",
    "records = []\n",
    "\n",
    "for i, link in tqdm(enumerate(links), total=len(links)):\n",
    "    sleep(0.2)\n",
    "    \n",
    "    try:\n",
    "        source = download_url(link)\n",
    "    except Exception as e:\n",
    "        print(f'error downloading page {i} with err {e}')\n",
    "        continue\n",
    "    \n",
    "    page_name = link.split('/')[-2]\n",
    "    with open(f'raw/pages/{page_name}', 'w') as f:\n",
    "        f.write(source)\n",
    "    \n",
    "    try:\n",
    "        content = Moyka78Page(source)\n",
    "        records.append(content)\n",
    "    except Exception as e:\n",
    "        print(f'error parsing page {i} with err {e}')\n",
    "        continue"
   ]
  },
  {
   "cell_type": "code",
   "execution_count": 5,
   "id": "794b71c0-b373-4a92-af20-17b5163c6a94",
   "metadata": {},
   "outputs": [
    {
     "name": "stdout",
     "output_type": "stream",
     "text": [
      "(357, 4)\n"
     ]
    },
    {
     "data": {
      "text/html": [
       "<div>\n",
       "<style scoped>\n",
       "    .dataframe tbody tr th:only-of-type {\n",
       "        vertical-align: middle;\n",
       "    }\n",
       "\n",
       "    .dataframe tbody tr th {\n",
       "        vertical-align: top;\n",
       "    }\n",
       "\n",
       "    .dataframe thead th {\n",
       "        text-align: right;\n",
       "    }\n",
       "</style>\n",
       "<table border=\"1\" class=\"dataframe\">\n",
       "  <thead>\n",
       "    <tr style=\"text-align: right;\">\n",
       "      <th></th>\n",
       "      <th>title</th>\n",
       "      <th>text</th>\n",
       "      <th>create_dttm</th>\n",
       "      <th>link</th>\n",
       "    </tr>\n",
       "  </thead>\n",
       "  <tbody>\n",
       "    <tr>\n",
       "      <th>0</th>\n",
       "      <td>Инвалидам перекрыли входы в кафе и магазины Кр...</td>\n",
       "      <td>\\n Магазины и кафе Кронштадта оказались недост...</td>\n",
       "      <td>2018-01-23T13:16</td>\n",
       "      <td>https://moika78.ru/news/2018-01-23/12164-inval...</td>\n",
       "    </tr>\n",
       "    <tr>\n",
       "      <th>1</th>\n",
       "      <td>Петербургские инвалиды не хотят хвалить метроп...</td>\n",
       "      <td>Оказывать помощь некоторым группам инвалидам н...</td>\n",
       "      <td>2018-01-30T15:53</td>\n",
       "      <td>https://moika78.ru/news/2018-01-30/13170-peter...</td>\n",
       "    </tr>\n",
       "    <tr>\n",
       "      <th>2</th>\n",
       "      <td>Петербургских родителей детей-инвалидов поддер...</td>\n",
       "      <td>\\n Горячая линия для родителей детей с инвали...</td>\n",
       "      <td>2018-01-31T13:12</td>\n",
       "      <td>https://moika78.ru/news/2018-01-31/13312-peter...</td>\n",
       "    </tr>\n",
       "    <tr>\n",
       "      <th>3</th>\n",
       "      <td>В Петербурге оштрафовали «Мираж Синема» за отк...</td>\n",
       "      <td>Роспотребнадзор по Санкт-Петербургу оштрафовал...</td>\n",
       "      <td>2018-02-14T13:38</td>\n",
       "      <td>https://moika78.ru/news/2018-02-14/14985-v-pet...</td>\n",
       "    </tr>\n",
       "    <tr>\n",
       "      <th>4</th>\n",
       "      <td>Люди каменного века относились к инвалидам с у...</td>\n",
       "      <td>Первобытные люди жившие на территории современ...</td>\n",
       "      <td>2018-02-16T20:24</td>\n",
       "      <td>https://moika78.ru/news/2018-02-16/15298-lyudi...</td>\n",
       "    </tr>\n",
       "  </tbody>\n",
       "</table>\n",
       "</div>"
      ],
      "text/plain": [
       "                                               title  \\\n",
       "0  Инвалидам перекрыли входы в кафе и магазины Кр...   \n",
       "1  Петербургские инвалиды не хотят хвалить метроп...   \n",
       "2  Петербургских родителей детей-инвалидов поддер...   \n",
       "3  В Петербурге оштрафовали «Мираж Синема» за отк...   \n",
       "4  Люди каменного века относились к инвалидам с у...   \n",
       "\n",
       "                                                text       create_dttm  \\\n",
       "0  \\n Магазины и кафе Кронштадта оказались недост...  2018-01-23T13:16   \n",
       "1  Оказывать помощь некоторым группам инвалидам н...  2018-01-30T15:53   \n",
       "2   \\n Горячая линия для родителей детей с инвали...  2018-01-31T13:12   \n",
       "3  Роспотребнадзор по Санкт-Петербургу оштрафовал...  2018-02-14T13:38   \n",
       "4  Первобытные люди жившие на территории современ...  2018-02-16T20:24   \n",
       "\n",
       "                                                link  \n",
       "0  https://moika78.ru/news/2018-01-23/12164-inval...  \n",
       "1  https://moika78.ru/news/2018-01-30/13170-peter...  \n",
       "2  https://moika78.ru/news/2018-01-31/13312-peter...  \n",
       "3  https://moika78.ru/news/2018-02-14/14985-v-pet...  \n",
       "4  https://moika78.ru/news/2018-02-16/15298-lyudi...  "
      ]
     },
     "execution_count": 5,
     "metadata": {},
     "output_type": "execute_result"
    }
   ],
   "source": [
    "make_tuple = lambda p: (p.get_header(), p.get_main_text() + '\\n' + p.get_citation(), p.get_create_date())\n",
    "tuples = [make_tuple(page) for page in records]\n",
    "\n",
    "df = pd.DataFrame.from_records(tuples, columns=['title', 'text', 'create_dttm']).assign(link=links)\n",
    "print(df.shape)\n",
    "df.head()"
   ]
  },
  {
   "cell_type": "code",
   "execution_count": 6,
   "id": "448ef600-221a-4e37-a28a-a9027a4c1bcd",
   "metadata": {},
   "outputs": [],
   "source": [
    "df.to_csv('./raw/articles/moika78.csv', index=False)"
   ]
  },
  {
   "cell_type": "code",
   "execution_count": null,
   "id": "015bfc9d-4188-4a7f-832c-8c13e7cb7471",
   "metadata": {},
   "outputs": [],
   "source": []
  }
 ],
 "metadata": {
  "kernelspec": {
   "display_name": "Python 3 (ipykernel)",
   "language": "python",
   "name": "python3"
  },
  "language_info": {
   "codemirror_mode": {
    "name": "ipython",
    "version": 3
   },
   "file_extension": ".py",
   "mimetype": "text/x-python",
   "name": "python",
   "nbconvert_exporter": "python",
   "pygments_lexer": "ipython3",
   "version": "3.9.16"
  }
 },
 "nbformat": 4,
 "nbformat_minor": 5
}
