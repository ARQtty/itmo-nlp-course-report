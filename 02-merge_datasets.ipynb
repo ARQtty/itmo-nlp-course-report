{
 "cells": [
  {
   "cell_type": "code",
   "execution_count": 1,
   "id": "738121a9-f88e-43b4-90c2-9c8ff392ef4e",
   "metadata": {},
   "outputs": [],
   "source": [
    "import pandas as pd"
   ]
  },
  {
   "cell_type": "code",
   "execution_count": 2,
   "id": "7e4864b9-ce3d-40f6-9b43-34e3c591838d",
   "metadata": {},
   "outputs": [
    {
     "name": "stdout",
     "output_type": "stream",
     "text": [
      "(357, 5)\n"
     ]
    },
    {
     "data": {
      "text/html": [
       "<div>\n",
       "<style scoped>\n",
       "    .dataframe tbody tr th:only-of-type {\n",
       "        vertical-align: middle;\n",
       "    }\n",
       "\n",
       "    .dataframe tbody tr th {\n",
       "        vertical-align: top;\n",
       "    }\n",
       "\n",
       "    .dataframe thead th {\n",
       "        text-align: right;\n",
       "    }\n",
       "</style>\n",
       "<table border=\"1\" class=\"dataframe\">\n",
       "  <thead>\n",
       "    <tr style=\"text-align: right;\">\n",
       "      <th></th>\n",
       "      <th>title</th>\n",
       "      <th>text</th>\n",
       "      <th>create_dttm</th>\n",
       "      <th>link</th>\n",
       "      <th>site</th>\n",
       "    </tr>\n",
       "  </thead>\n",
       "  <tbody>\n",
       "    <tr>\n",
       "      <th>0</th>\n",
       "      <td>Инвалидам перекрыли входы в кафе и магазины Кр...</td>\n",
       "      <td>\\n Магазины и кафе Кронштадта оказались недост...</td>\n",
       "      <td>2018-01-23 13:16:00</td>\n",
       "      <td>https://moika78.ru/news/2018-01-23/12164-inval...</td>\n",
       "      <td>moika78</td>\n",
       "    </tr>\n",
       "    <tr>\n",
       "      <th>1</th>\n",
       "      <td>Петербургские инвалиды не хотят хвалить метроп...</td>\n",
       "      <td>Оказывать помощь некоторым группам инвалидам н...</td>\n",
       "      <td>2018-01-30 15:53:00</td>\n",
       "      <td>https://moika78.ru/news/2018-01-30/13170-peter...</td>\n",
       "      <td>moika78</td>\n",
       "    </tr>\n",
       "    <tr>\n",
       "      <th>2</th>\n",
       "      <td>Петербургских родителей детей-инвалидов поддер...</td>\n",
       "      <td>\\n Горячая линия для родителей детей с инвали...</td>\n",
       "      <td>2018-01-31 13:12:00</td>\n",
       "      <td>https://moika78.ru/news/2018-01-31/13312-peter...</td>\n",
       "      <td>moika78</td>\n",
       "    </tr>\n",
       "  </tbody>\n",
       "</table>\n",
       "</div>"
      ],
      "text/plain": [
       "                                               title  \\\n",
       "0  Инвалидам перекрыли входы в кафе и магазины Кр...   \n",
       "1  Петербургские инвалиды не хотят хвалить метроп...   \n",
       "2  Петербургских родителей детей-инвалидов поддер...   \n",
       "\n",
       "                                                text         create_dttm  \\\n",
       "0  \\n Магазины и кафе Кронштадта оказались недост... 2018-01-23 13:16:00   \n",
       "1  Оказывать помощь некоторым группам инвалидам н... 2018-01-30 15:53:00   \n",
       "2   \\n Горячая линия для родителей детей с инвали... 2018-01-31 13:12:00   \n",
       "\n",
       "                                                link     site  \n",
       "0  https://moika78.ru/news/2018-01-23/12164-inval...  moika78  \n",
       "1  https://moika78.ru/news/2018-01-30/13170-peter...  moika78  \n",
       "2  https://moika78.ru/news/2018-01-31/13312-peter...  moika78  "
      ]
     },
     "execution_count": 2,
     "metadata": {},
     "output_type": "execute_result"
    }
   ],
   "source": [
    "df1 = pd.read_csv('./raw/articles/moika78.csv', parse_dates=['create_dttm']).assign(site='moika78')\n",
    "print(df1.shape)\n",
    "df1.head(3)"
   ]
  },
  {
   "cell_type": "code",
   "execution_count": 3,
   "id": "9e3f178d-447a-44e4-a39b-a502753faa49",
   "metadata": {},
   "outputs": [
    {
     "name": "stdout",
     "output_type": "stream",
     "text": [
      "(713, 5)\n"
     ]
    },
    {
     "data": {
      "text/html": [
       "<div>\n",
       "<style scoped>\n",
       "    .dataframe tbody tr th:only-of-type {\n",
       "        vertical-align: middle;\n",
       "    }\n",
       "\n",
       "    .dataframe tbody tr th {\n",
       "        vertical-align: top;\n",
       "    }\n",
       "\n",
       "    .dataframe thead th {\n",
       "        text-align: right;\n",
       "    }\n",
       "</style>\n",
       "<table border=\"1\" class=\"dataframe\">\n",
       "  <thead>\n",
       "    <tr style=\"text-align: right;\">\n",
       "      <th></th>\n",
       "      <th>title</th>\n",
       "      <th>text</th>\n",
       "      <th>create_dttm</th>\n",
       "      <th>link</th>\n",
       "      <th>site</th>\n",
       "    </tr>\n",
       "  </thead>\n",
       "  <tbody>\n",
       "    <tr>\n",
       "      <th>0</th>\n",
       "      <td>Депутат Романов вручил инвалидную коляску ново...</td>\n",
       "      <td>Накануне Нового года депутат Госдумы, заместит...</td>\n",
       "      <td>1 января 2018</td>\n",
       "      <td>https://spbdnevnik.ru/news/2018-01-01/deputat-...</td>\n",
       "      <td>spbdnevnik</td>\n",
       "    </tr>\n",
       "    <tr>\n",
       "      <th>1</th>\n",
       "      <td>Клиника \"Личный доктор\" заплатит штраф за отсу...</td>\n",
       "      <td>В Колпинском районе медицинская клиника ООО \"Л...</td>\n",
       "      <td>10 января 2018</td>\n",
       "      <td>https://spbdnevnik.ru/news/2018-01-10/klinika-...</td>\n",
       "      <td>spbdnevnik</td>\n",
       "    </tr>\n",
       "    <tr>\n",
       "      <th>2</th>\n",
       "      <td>Город услышал Антона, который тут рядом</td>\n",
       "      <td>В Петербурге будет создан центр помощи семьям,...</td>\n",
       "      <td>11 января 2018</td>\n",
       "      <td>https://spbdnevnik.ru/news/2018-01-11/my-tut-r...</td>\n",
       "      <td>spbdnevnik</td>\n",
       "    </tr>\n",
       "  </tbody>\n",
       "</table>\n",
       "</div>"
      ],
      "text/plain": [
       "                                               title  \\\n",
       "0  Депутат Романов вручил инвалидную коляску ново...   \n",
       "1  Клиника \"Личный доктор\" заплатит штраф за отсу...   \n",
       "2            Город услышал Антона, который тут рядом   \n",
       "\n",
       "                                                text     create_dttm  \\\n",
       "0  Накануне Нового года депутат Госдумы, заместит...   1 января 2018   \n",
       "1  В Колпинском районе медицинская клиника ООО \"Л...  10 января 2018   \n",
       "2  В Петербурге будет создан центр помощи семьям,...  11 января 2018   \n",
       "\n",
       "                                                link        site  \n",
       "0  https://spbdnevnik.ru/news/2018-01-01/deputat-...  spbdnevnik  \n",
       "1  https://spbdnevnik.ru/news/2018-01-10/klinika-...  spbdnevnik  \n",
       "2  https://spbdnevnik.ru/news/2018-01-11/my-tut-r...  spbdnevnik  "
      ]
     },
     "execution_count": 3,
     "metadata": {},
     "output_type": "execute_result"
    }
   ],
   "source": [
    "df2 = pd.read_csv('./raw/articles/spbdnevnik.csv', parse_dates=['create_dttm']).assign(site='spbdnevnik')\n",
    "print(df2.shape)\n",
    "df2.head(3)"
   ]
  },
  {
   "cell_type": "code",
   "execution_count": 4,
   "id": "fd530f39-0399-4bd1-806f-b9df48f6b56f",
   "metadata": {},
   "outputs": [
    {
     "name": "stdout",
     "output_type": "stream",
     "text": [
      "(803, 5)\n"
     ]
    },
    {
     "data": {
      "text/html": [
       "<div>\n",
       "<style scoped>\n",
       "    .dataframe tbody tr th:only-of-type {\n",
       "        vertical-align: middle;\n",
       "    }\n",
       "\n",
       "    .dataframe tbody tr th {\n",
       "        vertical-align: top;\n",
       "    }\n",
       "\n",
       "    .dataframe thead th {\n",
       "        text-align: right;\n",
       "    }\n",
       "</style>\n",
       "<table border=\"1\" class=\"dataframe\">\n",
       "  <thead>\n",
       "    <tr style=\"text-align: right;\">\n",
       "      <th></th>\n",
       "      <th>title</th>\n",
       "      <th>text</th>\n",
       "      <th>create_dttm</th>\n",
       "      <th>link</th>\n",
       "      <th>site</th>\n",
       "    </tr>\n",
       "  </thead>\n",
       "  <tbody>\n",
       "    <tr>\n",
       "      <th>0</th>\n",
       "      <td>Люди без подписи</td>\n",
       "      <td>Автор петиции «Прекратите ущемление прав людей...</td>\n",
       "      <td>11 января 2018, 13:41</td>\n",
       "      <td>https://www.fontanka.ru/2018/01/11/064/</td>\n",
       "      <td>fontanka</td>\n",
       "    </tr>\n",
       "    <tr>\n",
       "      <th>1</th>\n",
       "      <td>В Петербурге инвалидам хотят разрешить ездить ...</td>\n",
       "      <td>Депутаты петербургского Законодательного собра...</td>\n",
       "      <td>12 января 2018, 11:55</td>\n",
       "      <td>https://www.fontanka.ru/2018/01/12/047/</td>\n",
       "      <td>fontanka</td>\n",
       "    </tr>\n",
       "    <tr>\n",
       "      <th>2</th>\n",
       "      <td>Дана хочет слышать</td>\n",
       "      <td>«Хорошо учится, любит читать…», - слова мамы о...</td>\n",
       "      <td>13 января 2018, 18:05</td>\n",
       "      <td>https://www.fontanka.ru/2018/01/13/052/</td>\n",
       "      <td>fontanka</td>\n",
       "    </tr>\n",
       "  </tbody>\n",
       "</table>\n",
       "</div>"
      ],
      "text/plain": [
       "                                               title  \\\n",
       "0                                   Люди без подписи   \n",
       "1  В Петербурге инвалидам хотят разрешить ездить ...   \n",
       "2                                 Дана хочет слышать   \n",
       "\n",
       "                                                text            create_dttm  \\\n",
       "0  Автор петиции «Прекратите ущемление прав людей...  11 января 2018, 13:41   \n",
       "1  Депутаты петербургского Законодательного собра...  12 января 2018, 11:55   \n",
       "2  «Хорошо учится, любит читать…», - слова мамы о...  13 января 2018, 18:05   \n",
       "\n",
       "                                      link      site  \n",
       "0  https://www.fontanka.ru/2018/01/11/064/  fontanka  \n",
       "1  https://www.fontanka.ru/2018/01/12/047/  fontanka  \n",
       "2  https://www.fontanka.ru/2018/01/13/052/  fontanka  "
      ]
     },
     "execution_count": 4,
     "metadata": {},
     "output_type": "execute_result"
    }
   ],
   "source": [
    "df3 = pd.read_csv('./raw/articles/fontanka.csv', parse_dates=['create_dttm']).assign(site='fontanka')\n",
    "print(df3.shape)\n",
    "df3.head(3)"
   ]
  },
  {
   "cell_type": "code",
   "execution_count": 5,
   "id": "32f35059-1eb9-47ac-9f3d-904788e9e314",
   "metadata": {},
   "outputs": [
    {
     "data": {
      "text/plain": [
       "(1873, 5)"
      ]
     },
     "execution_count": 5,
     "metadata": {},
     "output_type": "execute_result"
    }
   ],
   "source": [
    "df = pd.concat((df1, df2, df3))\n",
    "df.shape"
   ]
  },
  {
   "cell_type": "code",
   "execution_count": 6,
   "id": "d157ea70-95fa-4e79-90a4-f084a5877d11",
   "metadata": {},
   "outputs": [
    {
     "data": {
      "text/html": [
       "<div>\n",
       "<style scoped>\n",
       "    .dataframe tbody tr th:only-of-type {\n",
       "        vertical-align: middle;\n",
       "    }\n",
       "\n",
       "    .dataframe tbody tr th {\n",
       "        vertical-align: top;\n",
       "    }\n",
       "\n",
       "    .dataframe thead th {\n",
       "        text-align: right;\n",
       "    }\n",
       "</style>\n",
       "<table border=\"1\" class=\"dataframe\">\n",
       "  <thead>\n",
       "    <tr style=\"text-align: right;\">\n",
       "      <th></th>\n",
       "      <th>title</th>\n",
       "      <th>text</th>\n",
       "      <th>create_dttm</th>\n",
       "      <th>link</th>\n",
       "      <th>site</th>\n",
       "    </tr>\n",
       "  </thead>\n",
       "  <tbody>\n",
       "    <tr>\n",
       "      <th>91</th>\n",
       "      <td>В Приморском районе чинят системы вызова диспе...</td>\n",
       "      <td>В Приморском районе чинят системы вызова диспе...</td>\n",
       "      <td>2019-03-27 16:55:00</td>\n",
       "      <td>https://moika78.ru/news/2019-03-27/209698-v-pr...</td>\n",
       "      <td>moika78</td>\n",
       "    </tr>\n",
       "    <tr>\n",
       "      <th>31</th>\n",
       "      <td>В Великобритании прошла церемония прощания со ...</td>\n",
       "      <td>В Великобритании прошла церемония прощания со ...</td>\n",
       "      <td>31 марта 2018, 20:28</td>\n",
       "      <td>https://www.fontanka.ru/2018/03/31/081/</td>\n",
       "      <td>fontanka</td>\n",
       "    </tr>\n",
       "    <tr>\n",
       "      <th>626</th>\n",
       "      <td>Отсутствием рабочих мест для инвалидов на фабр...</td>\n",
       "      <td>Сейчас на фабрике нет помещения для инвалидов,...</td>\n",
       "      <td>13 ноября 2022</td>\n",
       "      <td>https://spbdnevnik.ru/news/2022-11-13/otsutstv...</td>\n",
       "      <td>spbdnevnik</td>\n",
       "    </tr>\n",
       "    <tr>\n",
       "      <th>357</th>\n",
       "      <td>«Вспомним Башлачёва и \"Кино\"». «Добрый рок» пр...</td>\n",
       "      <td>Благотворительный фестиваль «Добрый рок» пригл...</td>\n",
       "      <td>26 ноября 2019, 14:00</td>\n",
       "      <td>https://www.fontanka.ru/2019/11/26/068/</td>\n",
       "      <td>fontanka</td>\n",
       "    </tr>\n",
       "    <tr>\n",
       "      <th>308</th>\n",
       "      <td>Шопинг с препятствиями: как попасть в молл, ес...</td>\n",
       "      <td>«ПД» разобрался, как в Петербурге ходить по ма...</td>\n",
       "      <td>2 октября 2020</td>\n",
       "      <td>https://spbdnevnik.ru/news/2020-10-02/shoping-...</td>\n",
       "      <td>spbdnevnik</td>\n",
       "    </tr>\n",
       "  </tbody>\n",
       "</table>\n",
       "</div>"
      ],
      "text/plain": [
       "                                                 title  \\\n",
       "91   В Приморском районе чинят системы вызова диспе...   \n",
       "31   В Великобритании прошла церемония прощания со ...   \n",
       "626  Отсутствием рабочих мест для инвалидов на фабр...   \n",
       "357  «Вспомним Башлачёва и \"Кино\"». «Добрый рок» пр...   \n",
       "308  Шопинг с препятствиями: как попасть в молл, ес...   \n",
       "\n",
       "                                                  text            create_dttm  \\\n",
       "91   В Приморском районе чинят системы вызова диспе...    2019-03-27 16:55:00   \n",
       "31   В Великобритании прошла церемония прощания со ...   31 марта 2018, 20:28   \n",
       "626  Сейчас на фабрике нет помещения для инвалидов,...         13 ноября 2022   \n",
       "357  Благотворительный фестиваль «Добрый рок» пригл...  26 ноября 2019, 14:00   \n",
       "308  «ПД» разобрался, как в Петербурге ходить по ма...         2 октября 2020   \n",
       "\n",
       "                                                  link        site  \n",
       "91   https://moika78.ru/news/2019-03-27/209698-v-pr...     moika78  \n",
       "31             https://www.fontanka.ru/2018/03/31/081/    fontanka  \n",
       "626  https://spbdnevnik.ru/news/2022-11-13/otsutstv...  spbdnevnik  \n",
       "357            https://www.fontanka.ru/2019/11/26/068/    fontanka  \n",
       "308  https://spbdnevnik.ru/news/2020-10-02/shoping-...  spbdnevnik  "
      ]
     },
     "execution_count": 6,
     "metadata": {},
     "output_type": "execute_result"
    }
   ],
   "source": [
    "df.sample(5)"
   ]
  },
  {
   "cell_type": "code",
   "execution_count": 7,
   "id": "d47d784c-a405-422c-a8e9-f800c4b49735",
   "metadata": {},
   "outputs": [],
   "source": [
    "df.to_csv('./raw/articles/articles.csv', index=False)"
   ]
  },
  {
   "cell_type": "code",
   "execution_count": null,
   "id": "1cbd003c-9fc7-403f-87cf-49b249b39137",
   "metadata": {},
   "outputs": [],
   "source": []
  }
 ],
 "metadata": {
  "kernelspec": {
   "display_name": "Python 3 (ipykernel)",
   "language": "python",
   "name": "python3"
  },
  "language_info": {
   "codemirror_mode": {
    "name": "ipython",
    "version": 3
   },
   "file_extension": ".py",
   "mimetype": "text/x-python",
   "name": "python",
   "nbconvert_exporter": "python",
   "pygments_lexer": "ipython3",
   "version": "3.9.16"
  }
 },
 "nbformat": 4,
 "nbformat_minor": 5
}
