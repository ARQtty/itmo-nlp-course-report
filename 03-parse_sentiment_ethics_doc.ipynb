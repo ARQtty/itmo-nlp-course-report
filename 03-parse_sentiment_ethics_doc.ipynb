{
 "cells": [
  {
   "cell_type": "code",
   "execution_count": 1,
   "id": "7dc6c572-614e-4901-91a4-6da48b2a2c1f",
   "metadata": {},
   "outputs": [],
   "source": [
    "import pandas as pd"
   ]
  },
  {
   "cell_type": "markdown",
   "id": "4b2fb8ba-f46f-4931-8755-b2d3cff28820",
   "metadata": {},
   "source": [
    "# sentiment"
   ]
  },
  {
   "cell_type": "code",
   "execution_count": 2,
   "id": "e896515c-8223-4e9c-af74-dc06f74ec076",
   "metadata": {},
   "outputs": [],
   "source": [
    "s = open('raw/raw_sentiment_doc.txt').read()"
   ]
  },
  {
   "cell_type": "code",
   "execution_count": 3,
   "id": "2b086517-b6cb-4f6b-ade1-99e30d3f3cc5",
   "metadata": {},
   "outputs": [],
   "source": [
    "def get_link(s: str) -> str:\n",
    "    i = s.index('://')\n",
    "    try:\n",
    "        j = s[i:].index('\\n')\n",
    "    except ValueError:\n",
    "        j = s[i:].index(' ')\n",
    "    s = s[i:i+j]\n",
    "    s = s.split()[0]\n",
    "    return s\n",
    "\n",
    "def has_label(s) -> bool:\n",
    "    return ('НЕЙТРАЛЬНО' in s) or ('НЕГАТИВНО' in s) or ('ПОЛОЖИТЕЛЬНО' in s)\n",
    "\n",
    "def get_label(s: str) -> str:\n",
    "    if 'НЕЙТРАЛЬНО' in s:\n",
    "        return 0\n",
    "    elif 'НЕГАТИВНО' in s:\n",
    "        return -1\n",
    "    elif 'ПОЛОЖИТЕЛЬНО':\n",
    "        return 1\n",
    "    else:\n",
    "        raise ValueError"
   ]
  },
  {
   "cell_type": "code",
   "execution_count": 4,
   "id": "6cdda2a0-d10b-4ec9-981d-4c2af3d5e2b3",
   "metadata": {},
   "outputs": [],
   "source": [
    "items = s.split('https')\n",
    "items = list(filter(lambda i: has_label(i), items))\n",
    "# print('\\n|\\n'.join(items))"
   ]
  },
  {
   "cell_type": "code",
   "execution_count": 5,
   "id": "6f5a0932-2775-4570-8e42-55b8946a1fd1",
   "metadata": {},
   "outputs": [
    {
     "name": "stdout",
     "output_type": "stream",
     "text": [
      "108\n"
     ]
    }
   ],
   "source": [
    "records = []\n",
    "\n",
    "for i, item in enumerate(items):\n",
    "    try:\n",
    "        link = get_link(item)\n",
    "    except Exception as e:\n",
    "        print(item)\n",
    "        raise e\n",
    "        \n",
    "    # if i > 31 and i < 35:\n",
    "    #     print(link, get_label(item))\n",
    "    records.append(('https' + link, get_label(item)))\n",
    "    \n",
    "df = pd.DataFrame.from_records(records, columns=['link', 'sentiment'])\n",
    "print(len(df))\n",
    "# df.to_csv('tmp.csv')"
   ]
  },
  {
   "cell_type": "code",
   "execution_count": 6,
   "id": "2763851c-c0e2-42bc-bc39-d1fa8bb3f840",
   "metadata": {},
   "outputs": [
    {
     "data": {
      "text/html": [
       "<div>\n",
       "<style scoped>\n",
       "    .dataframe tbody tr th:only-of-type {\n",
       "        vertical-align: middle;\n",
       "    }\n",
       "\n",
       "    .dataframe tbody tr th {\n",
       "        vertical-align: top;\n",
       "    }\n",
       "\n",
       "    .dataframe thead th {\n",
       "        text-align: right;\n",
       "    }\n",
       "</style>\n",
       "<table border=\"1\" class=\"dataframe\">\n",
       "  <thead>\n",
       "    <tr style=\"text-align: right;\">\n",
       "      <th></th>\n",
       "      <th>title</th>\n",
       "      <th>text</th>\n",
       "      <th>create_dttm</th>\n",
       "      <th>link</th>\n",
       "      <th>site</th>\n",
       "    </tr>\n",
       "  </thead>\n",
       "  <tbody>\n",
       "    <tr>\n",
       "      <th>0</th>\n",
       "      <td>Инвалидам перекрыли входы в кафе и магазины Кр...</td>\n",
       "      <td>\\n Магазины и кафе Кронштадта оказались недост...</td>\n",
       "      <td>2018-01-23 13:16:00</td>\n",
       "      <td>https://moika78.ru/news/2018-01-23/12164-inval...</td>\n",
       "      <td>moika78</td>\n",
       "    </tr>\n",
       "    <tr>\n",
       "      <th>1</th>\n",
       "      <td>Петербургские инвалиды не хотят хвалить метроп...</td>\n",
       "      <td>Оказывать помощь некоторым группам инвалидам н...</td>\n",
       "      <td>2018-01-30 15:53:00</td>\n",
       "      <td>https://moika78.ru/news/2018-01-30/13170-peter...</td>\n",
       "      <td>moika78</td>\n",
       "    </tr>\n",
       "    <tr>\n",
       "      <th>2</th>\n",
       "      <td>Петербургских родителей детей-инвалидов поддер...</td>\n",
       "      <td>\\n Горячая линия для родителей детей с инвали...</td>\n",
       "      <td>2018-01-31 13:12:00</td>\n",
       "      <td>https://moika78.ru/news/2018-01-31/13312-peter...</td>\n",
       "      <td>moika78</td>\n",
       "    </tr>\n",
       "  </tbody>\n",
       "</table>\n",
       "</div>"
      ],
      "text/plain": [
       "                                               title  \\\n",
       "0  Инвалидам перекрыли входы в кафе и магазины Кр...   \n",
       "1  Петербургские инвалиды не хотят хвалить метроп...   \n",
       "2  Петербургских родителей детей-инвалидов поддер...   \n",
       "\n",
       "                                                text          create_dttm  \\\n",
       "0  \\n Магазины и кафе Кронштадта оказались недост...  2018-01-23 13:16:00   \n",
       "1  Оказывать помощь некоторым группам инвалидам н...  2018-01-30 15:53:00   \n",
       "2   \\n Горячая линия для родителей детей с инвали...  2018-01-31 13:12:00   \n",
       "\n",
       "                                                link     site  \n",
       "0  https://moika78.ru/news/2018-01-23/12164-inval...  moika78  \n",
       "1  https://moika78.ru/news/2018-01-30/13170-peter...  moika78  \n",
       "2  https://moika78.ru/news/2018-01-31/13312-peter...  moika78  "
      ]
     },
     "execution_count": 6,
     "metadata": {},
     "output_type": "execute_result"
    }
   ],
   "source": [
    "articles = pd.read_csv('./raw/articles/articles.csv')\n",
    "articles.head(3)"
   ]
  },
  {
   "cell_type": "code",
   "execution_count": 7,
   "id": "c9262ce6-6ddb-48f9-b2ba-198a1041f9c0",
   "metadata": {},
   "outputs": [
    {
     "data": {
      "text/plain": [
       "array([[<Axes: title={'center': 'sentiment'}>]], dtype=object)"
      ]
     },
     "execution_count": 7,
     "metadata": {},
     "output_type": "execute_result"
    },
    {
     "data": {
      "image/png": "[encoded data removed]",
      "text/plain": [
       "<Figure size 432x288 with 1 Axes>"
      ]
     },
     "metadata": {
      "needs_background": "light"
     },
     "output_type": "display_data"
    }
   ],
   "source": [
    "df = pd.merge(articles, df, how='left', on='link')#.label\n",
    "df.hist()"
   ]
  },
  {
   "cell_type": "code",
   "execution_count": 8,
   "id": "ace5b674-7ee6-4bf4-8b56-4081019bd326",
   "metadata": {},
   "outputs": [
    {
     "data": {
      "text/html": [
       "<div>\n",
       "<style scoped>\n",
       "    .dataframe tbody tr th:only-of-type {\n",
       "        vertical-align: middle;\n",
       "    }\n",
       "\n",
       "    .dataframe tbody tr th {\n",
       "        vertical-align: top;\n",
       "    }\n",
       "\n",
       "    .dataframe thead th {\n",
       "        text-align: right;\n",
       "    }\n",
       "</style>\n",
       "<table border=\"1\" class=\"dataframe\">\n",
       "  <thead>\n",
       "    <tr style=\"text-align: right;\">\n",
       "      <th></th>\n",
       "      <th>title</th>\n",
       "      <th>text</th>\n",
       "      <th>create_dttm</th>\n",
       "      <th>link</th>\n",
       "      <th>site</th>\n",
       "      <th>sentiment</th>\n",
       "    </tr>\n",
       "  </thead>\n",
       "  <tbody>\n",
       "    <tr>\n",
       "      <th>0</th>\n",
       "      <td>Инвалидам перекрыли входы в кафе и магазины Кр...</td>\n",
       "      <td>\\n Магазины и кафе Кронштадта оказались недост...</td>\n",
       "      <td>2018-01-23 13:16:00</td>\n",
       "      <td>https://moika78.ru/news/2018-01-23/12164-inval...</td>\n",
       "      <td>moika78</td>\n",
       "      <td>0.0</td>\n",
       "    </tr>\n",
       "    <tr>\n",
       "      <th>1</th>\n",
       "      <td>Петербургские инвалиды не хотят хвалить метроп...</td>\n",
       "      <td>Оказывать помощь некоторым группам инвалидам н...</td>\n",
       "      <td>2018-01-30 15:53:00</td>\n",
       "      <td>https://moika78.ru/news/2018-01-30/13170-peter...</td>\n",
       "      <td>moika78</td>\n",
       "      <td>NaN</td>\n",
       "    </tr>\n",
       "    <tr>\n",
       "      <th>2</th>\n",
       "      <td>Петербургских родителей детей-инвалидов поддер...</td>\n",
       "      <td>\\n Горячая линия для родителей детей с инвали...</td>\n",
       "      <td>2018-01-31 13:12:00</td>\n",
       "      <td>https://moika78.ru/news/2018-01-31/13312-peter...</td>\n",
       "      <td>moika78</td>\n",
       "      <td>NaN</td>\n",
       "    </tr>\n",
       "    <tr>\n",
       "      <th>3</th>\n",
       "      <td>В Петербурге оштрафовали «Мираж Синема» за отк...</td>\n",
       "      <td>Роспотребнадзор по Санкт-Петербургу оштрафовал...</td>\n",
       "      <td>2018-02-14 13:38:00</td>\n",
       "      <td>https://moika78.ru/news/2018-02-14/14985-v-pet...</td>\n",
       "      <td>moika78</td>\n",
       "      <td>NaN</td>\n",
       "    </tr>\n",
       "    <tr>\n",
       "      <th>4</th>\n",
       "      <td>Люди каменного века относились к инвалидам с у...</td>\n",
       "      <td>Первобытные люди жившие на территории современ...</td>\n",
       "      <td>2018-02-16 20:24:00</td>\n",
       "      <td>https://moika78.ru/news/2018-02-16/15298-lyudi...</td>\n",
       "      <td>moika78</td>\n",
       "      <td>NaN</td>\n",
       "    </tr>\n",
       "  </tbody>\n",
       "</table>\n",
       "</div>"
      ],
      "text/plain": [
       "                                               title  \\\n",
       "0  Инвалидам перекрыли входы в кафе и магазины Кр...   \n",
       "1  Петербургские инвалиды не хотят хвалить метроп...   \n",
       "2  Петербургских родителей детей-инвалидов поддер...   \n",
       "3  В Петербурге оштрафовали «Мираж Синема» за отк...   \n",
       "4  Люди каменного века относились к инвалидам с у...   \n",
       "\n",
       "                                                text          create_dttm  \\\n",
       "0  \\n Магазины и кафе Кронштадта оказались недост...  2018-01-23 13:16:00   \n",
       "1  Оказывать помощь некоторым группам инвалидам н...  2018-01-30 15:53:00   \n",
       "2   \\n Горячая линия для родителей детей с инвали...  2018-01-31 13:12:00   \n",
       "3  Роспотребнадзор по Санкт-Петербургу оштрафовал...  2018-02-14 13:38:00   \n",
       "4  Первобытные люди жившие на территории современ...  2018-02-16 20:24:00   \n",
       "\n",
       "                                                link     site  sentiment  \n",
       "0  https://moika78.ru/news/2018-01-23/12164-inval...  moika78        0.0  \n",
       "1  https://moika78.ru/news/2018-01-30/13170-peter...  moika78        NaN  \n",
       "2  https://moika78.ru/news/2018-01-31/13312-peter...  moika78        NaN  \n",
       "3  https://moika78.ru/news/2018-02-14/14985-v-pet...  moika78        NaN  \n",
       "4  https://moika78.ru/news/2018-02-16/15298-lyudi...  moika78        NaN  "
      ]
     },
     "execution_count": 8,
     "metadata": {},
     "output_type": "execute_result"
    }
   ],
   "source": [
    "df.head()"
   ]
  },
  {
   "cell_type": "markdown",
   "id": "f13e17ce-e44f-476a-a852-6a2549c996c6",
   "metadata": {},
   "source": [
    "# ethics"
   ]
  },
  {
   "cell_type": "code",
   "execution_count": 9,
   "id": "880f474b-f337-4e9c-b138-462e31f9c15f",
   "metadata": {},
   "outputs": [],
   "source": [
    "s = open('raw/raw_ethics_doc.txt').read()"
   ]
  },
  {
   "cell_type": "code",
   "execution_count": 10,
   "id": "a462926d-5205-428d-bd8f-413d934eb287",
   "metadata": {},
   "outputs": [],
   "source": [
    "def get_link(s: str) -> str:\n",
    "    i = s.index('https')\n",
    "    j = s[i:].index(' ')\n",
    "    s = s[i:i+j]\n",
    "    s = s.split()[0]\n",
    "    if '?' in s:\n",
    "        # drop link params\n",
    "        s = s[:s.index('?')]\n",
    "    return s\n",
    "\n",
    "def get_label(s: str) -> str:\n",
    "    if 'НЕЭТИЧНО' in s:\n",
    "        return 0\n",
    "    elif ' ЭТИЧНО' in s:\n",
    "        return 1\n",
    "    else:\n",
    "        raise ValueError"
   ]
  },
  {
   "cell_type": "code",
   "execution_count": 11,
   "id": "883fd1e2-1c66-4e2a-bdff-e8ef4e4ffcda",
   "metadata": {},
   "outputs": [
    {
     "data": {
      "text/plain": [
       "(95, 2)"
      ]
     },
     "execution_count": 11,
     "metadata": {},
     "output_type": "execute_result"
    }
   ],
   "source": [
    "records = []\n",
    "\n",
    "for line in s.splitlines():\n",
    "    if 'https' not in line:\n",
    "        continue\n",
    "    \n",
    "    # print(line)\n",
    "    link = get_link(line.strip())\n",
    "    label = get_label(line)\n",
    "    records.append((link, label))\n",
    "\n",
    "df2 = pd.DataFrame.from_records(records, columns=['link', 'ethics'])\n",
    "df2 = df2[~df2.link.apply(lambda l: 'vk.com' in l)]\n",
    "df2.shape"
   ]
  },
  {
   "cell_type": "code",
   "execution_count": 12,
   "id": "8ebb9a47-9f68-4722-bd4b-aeffc766f9ac",
   "metadata": {},
   "outputs": [
    {
     "data": {
      "text/plain": [
       "{'https://moika78.ru/news/2019-04-19/219847-izbivshij-invalida-v-kronshtadte-stal-figurantom-ugolovnogo-dela/',\n",
       " 'https://moika78.ru/news/2019-08-24/277847-razrabotan-umnyj-braslet-predskazyvayushhij-vspyshki-agressii-pri-autizme/',\n",
       " 'https://moika78.ru/news/2020-04-11/397194-prozhivayushhie-v-nyu-jorke-veterany-poluchili-medali-k-75-letiyu-pobedy/',\n",
       " 'https://spbdnevnik.ru/news/2019-08-19/v-novoy-gollandii-proydet-festival-anton-tut-ryadom',\n",
       " 'https://spbdnevnik.ru/news/2019-10-13/invalid-iz-veselogo-poselka-izgotovil-sebe-skorostnuyu-kolyasku-iz-giroskutera-i-detskogo-velosipeda',\n",
       " 'https://spbdnevnik.ru/news/2019-12-10/zhenschina-otkazalas-ot-svoego-rebenka-s-sindromom-dauna-i-vstretilas-s-nim-cherez-9-let',\n",
       " 'https://spbdnevnik.ru/news/2019-12-26/ya-budu-esche-luchshe-uchitsya-i-reshu-svoi-problemy-kak-paren-s-autizmom-postupil-v-konservatoriyu',\n",
       " 'https://spbdnevnik.ru/news/2020-08-25/organy-opeki-naydut-vremennyy-dom-dlya-otravlennogo-alkogolem-malchika-i-ego-sestry',\n",
       " 'https://spbdnevnik.ru/news/2020-10-18/v-peterburge-podrostok-s-dtsp-raspisyvaet-platki-chtoby-nakopit-na-osuschestvlenie-mechty',\n",
       " 'https://spbdnevnik.ru/news/2020-11-13/kak-v-peterburge-ustroena-dostupnaya-sreda-dlya-invalidov',\n",
       " 'https://www.fontanka.ru/2019/02/06/034/',\n",
       " 'https://www.fontanka.ru/2019/09/09/150/',\n",
       " 'https://www.fontanka.ru/2020/04/14/69090274/',\n",
       " 'https://www.fontanka.ru/2020/10/20/69511121/'}"
      ]
     },
     "execution_count": 12,
     "metadata": {},
     "output_type": "execute_result"
    }
   ],
   "source": [
    "s1 = set(df2.link.tolist())\n",
    "s2 = set(df.link.tolist())\n",
    "\n",
    "s1.difference(s2)"
   ]
  },
  {
   "cell_type": "code",
   "execution_count": 13,
   "id": "d290054e-4079-44c9-bdc1-5667fe5843b5",
   "metadata": {},
   "outputs": [
    {
     "data": {
      "text/plain": [
       "array([[<Axes: title={'center': 'sentiment'}>,\n",
       "        <Axes: title={'center': 'ethics'}>]], dtype=object)"
      ]
     },
     "execution_count": 13,
     "metadata": {},
     "output_type": "execute_result"
    },
    {
     "data": {
      "image/png": "[encoded data removed]",
      "text/plain": [
       "<Figure size 432x288 with 2 Axes>"
      ]
     },
     "metadata": {
      "needs_background": "light"
     },
     "output_type": "display_data"
    }
   ],
   "source": [
    "df = pd.merge(df, df2, how='left', on='link')#.hist()\n",
    "df.hist()"
   ]
  },
  {
   "cell_type": "markdown",
   "id": "cade8171-5ea3-4dbd-addc-a7e7a4f9a30f",
   "metadata": {},
   "source": [
    "# save"
   ]
  },
  {
   "cell_type": "code",
   "execution_count": 14,
   "id": "894f89cf-ebc2-4ce2-9040-89b69f2cc83d",
   "metadata": {},
   "outputs": [],
   "source": [
    "df.to_csv('./raw/articles/articles.csv', index=False)"
   ]
  },
  {
   "cell_type": "code",
   "execution_count": null,
   "id": "90148ed1-448b-424a-9846-dbcbda82bf33",
   "metadata": {},
   "outputs": [],
   "source": []
  }
 ],
 "metadata": {
  "kernelspec": {
   "display_name": "Python 3 (ipykernel)",
   "language": "python",
   "name": "python3"
  },
  "language_info": {
   "codemirror_mode": {
    "name": "ipython",
    "version": 3
   },
   "file_extension": ".py",
   "mimetype": "text/x-python",
   "name": "python",
   "nbconvert_exporter": "python",
   "pygments_lexer": "ipython3",
   "version": "3.9.16"
  }
 },
 "nbformat": 4,
 "nbformat_minor": 5
}
